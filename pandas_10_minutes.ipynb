{
  "cells": [
    {
      "metadata": {
        "ExecuteTime": {
          "start_time": "2019-09-14T16:38:40.073725Z",
          "end_time": "2019-09-14T16:38:42.337392Z"
        },
        "trusted": true
      },
      "cell_type": "code",
      "source": "import pandas as pd\nimport numpy as np",
      "execution_count": 1,
      "outputs": []
    },
    {
      "metadata": {
        "ExecuteTime": {
          "start_time": "2019-09-14T16:38:42.353534Z",
          "end_time": "2019-09-14T16:38:42.396956Z"
        },
        "trusted": true
      },
      "cell_type": "code",
      "source": "s = pd.Series([1,2,3,4,'a'], index=['a','b','c','d','e'])",
      "execution_count": 2,
      "outputs": []
    },
    {
      "metadata": {
        "ExecuteTime": {
          "start_time": "2019-09-14T16:38:42.408109Z",
          "end_time": "2019-09-14T16:38:42.578138Z"
        },
        "trusted": true
      },
      "cell_type": "code",
      "source": "s",
      "execution_count": 3,
      "outputs": [
        {
          "output_type": "execute_result",
          "execution_count": 3,
          "data": {
            "text/plain": "a    1\nb    2\nc    3\nd    4\ne    a\ndtype: object"
          },
          "metadata": {}
        }
      ]
    },
    {
      "metadata": {
        "ExecuteTime": {
          "start_time": "2019-09-14T16:38:42.595675Z",
          "end_time": "2019-09-14T16:38:42.76111Z"
        },
        "trusted": true
      },
      "cell_type": "code",
      "source": "pd.Series([1,2,3,4,'a'], index=['a','b','c','d','e'])",
      "execution_count": 4,
      "outputs": [
        {
          "output_type": "execute_result",
          "execution_count": 4,
          "data": {
            "text/plain": "a    1\nb    2\nc    3\nd    4\ne    a\ndtype: object"
          },
          "metadata": {}
        }
      ]
    },
    {
      "metadata": {
        "ExecuteTime": {
          "start_time": "2019-09-14T16:38:42.772504Z",
          "end_time": "2019-09-14T16:38:42.888077Z"
        },
        "trusted": true
      },
      "cell_type": "code",
      "source": "pd.Series({'carlos': 2000, 'luis':2500, 'sofia': 2500, 'andres': 1500})",
      "execution_count": 5,
      "outputs": [
        {
          "output_type": "execute_result",
          "execution_count": 5,
          "data": {
            "text/plain": "carlos    2000\nluis      2500\nsofia     2500\nandres    1500\ndtype: int64"
          },
          "metadata": {}
        }
      ]
    },
    {
      "metadata": {
        "ExecuteTime": {
          "start_time": "2019-09-14T16:38:42.897608Z",
          "end_time": "2019-09-14T16:38:42.962008Z"
        },
        "trusted": true
      },
      "cell_type": "code",
      "source": "salarios = pd.Series({'carlos': 2000, 'luis':2500, 'sofia': 2500, 'andres': 1500})",
      "execution_count": 6,
      "outputs": []
    },
    {
      "metadata": {
        "ExecuteTime": {
          "start_time": "2019-09-14T16:38:42.9735Z",
          "end_time": "2019-09-14T16:38:43.08145Z"
        },
        "trusted": true
      },
      "cell_type": "code",
      "source": "salarios",
      "execution_count": 7,
      "outputs": [
        {
          "output_type": "execute_result",
          "execution_count": 7,
          "data": {
            "text/plain": "carlos    2000\nluis      2500\nsofia     2500\nandres    1500\ndtype: int64"
          },
          "metadata": {}
        }
      ]
    },
    {
      "metadata": {
        "ExecuteTime": {
          "start_time": "2019-09-14T16:38:43.101019Z",
          "end_time": "2019-09-14T16:38:43.171413Z"
        },
        "trusted": true
      },
      "cell_type": "code",
      "source": "salarios.min()",
      "execution_count": 8,
      "outputs": [
        {
          "output_type": "execute_result",
          "execution_count": 8,
          "data": {
            "text/plain": "1500"
          },
          "metadata": {}
        }
      ]
    },
    {
      "metadata": {
        "ExecuteTime": {
          "start_time": "2019-09-14T16:38:43.188413Z",
          "end_time": "2019-09-14T16:38:43.280407Z"
        },
        "trusted": true
      },
      "cell_type": "code",
      "source": "salarios['carlos'] = salarios.min()",
      "execution_count": 9,
      "outputs": []
    },
    {
      "metadata": {
        "ExecuteTime": {
          "start_time": "2019-09-14T16:38:43.288197Z",
          "end_time": "2019-09-14T16:38:43.427188Z"
        },
        "trusted": true
      },
      "cell_type": "code",
      "source": "salarios",
      "execution_count": 10,
      "outputs": [
        {
          "output_type": "execute_result",
          "execution_count": 10,
          "data": {
            "text/plain": "carlos    1500\nluis      2500\nsofia     2500\nandres    1500\ndtype: int64"
          },
          "metadata": {}
        }
      ]
    },
    {
      "metadata": {},
      "cell_type": "markdown",
      "source": "# Data frames"
    },
    {
      "metadata": {
        "ExecuteTime": {
          "start_time": "2019-09-14T16:38:43.428864Z",
          "end_time": "2019-09-14T16:38:43.508495Z"
        },
        "trusted": true
      },
      "cell_type": "code",
      "source": "frutas = ['manzana', 'pera', 'limon', 'piña']\nfrutas",
      "execution_count": 11,
      "outputs": [
        {
          "output_type": "execute_result",
          "execution_count": 11,
          "data": {
            "text/plain": "['manzana', 'pera', 'limon', 'piña']"
          },
          "metadata": {}
        }
      ]
    },
    {
      "metadata": {
        "ExecuteTime": {
          "start_time": "2019-09-14T16:38:43.529851Z",
          "end_time": "2019-09-14T16:38:43.588064Z"
        },
        "trusted": true
      },
      "cell_type": "code",
      "source": "amigos = ['carlos', 'luis', 'sofia', 'andres']\namigos",
      "execution_count": 12,
      "outputs": [
        {
          "output_type": "execute_result",
          "execution_count": 12,
          "data": {
            "text/plain": "['carlos', 'luis', 'sofia', 'andres']"
          },
          "metadata": {}
        }
      ]
    },
    {
      "metadata": {
        "ExecuteTime": {
          "start_time": "2019-09-14T16:38:43.608957Z",
          "end_time": "2019-09-14T16:38:43.765552Z"
        },
        "trusted": true
      },
      "cell_type": "code",
      "source": "pd.DataFrame(amigos)",
      "execution_count": 13,
      "outputs": [
        {
          "output_type": "execute_result",
          "execution_count": 13,
          "data": {
            "text/html": "<div>\n<style scoped>\n    .dataframe tbody tr th:only-of-type {\n        vertical-align: middle;\n    }\n\n    .dataframe tbody tr th {\n        vertical-align: top;\n    }\n\n    .dataframe thead th {\n        text-align: right;\n    }\n</style>\n<table border=\"1\" class=\"dataframe\">\n  <thead>\n    <tr style=\"text-align: right;\">\n      <th></th>\n      <th>0</th>\n    </tr>\n  </thead>\n  <tbody>\n    <tr>\n      <th>0</th>\n      <td>carlos</td>\n    </tr>\n    <tr>\n      <th>1</th>\n      <td>luis</td>\n    </tr>\n    <tr>\n      <th>2</th>\n      <td>sofia</td>\n    </tr>\n    <tr>\n      <th>3</th>\n      <td>andres</td>\n    </tr>\n  </tbody>\n</table>\n</div>",
            "text/plain": "        0\n0  carlos\n1    luis\n2   sofia\n3  andres"
          },
          "metadata": {}
        }
      ]
    },
    {
      "metadata": {
        "ExecuteTime": {
          "start_time": "2019-09-14T16:38:43.776945Z",
          "end_time": "2019-09-14T16:38:43.878419Z"
        },
        "trusted": true
      },
      "cell_type": "code",
      "source": "pd.DataFrame(amigos, index=frutas)",
      "execution_count": 14,
      "outputs": [
        {
          "output_type": "execute_result",
          "execution_count": 14,
          "data": {
            "text/html": "<div>\n<style scoped>\n    .dataframe tbody tr th:only-of-type {\n        vertical-align: middle;\n    }\n\n    .dataframe tbody tr th {\n        vertical-align: top;\n    }\n\n    .dataframe thead th {\n        text-align: right;\n    }\n</style>\n<table border=\"1\" class=\"dataframe\">\n  <thead>\n    <tr style=\"text-align: right;\">\n      <th></th>\n      <th>0</th>\n    </tr>\n  </thead>\n  <tbody>\n    <tr>\n      <th>manzana</th>\n      <td>carlos</td>\n    </tr>\n    <tr>\n      <th>pera</th>\n      <td>luis</td>\n    </tr>\n    <tr>\n      <th>limon</th>\n      <td>sofia</td>\n    </tr>\n    <tr>\n      <th>piña</th>\n      <td>andres</td>\n    </tr>\n  </tbody>\n</table>\n</div>",
            "text/plain": "              0\nmanzana  carlos\npera       luis\nlimon     sofia\npiña     andres"
          },
          "metadata": {}
        }
      ]
    },
    {
      "metadata": {
        "ExecuteTime": {
          "start_time": "2019-09-14T16:38:43.903281Z",
          "end_time": "2019-09-14T16:38:44.003857Z"
        },
        "trusted": true
      },
      "cell_type": "code",
      "source": "pd.DataFrame([amigos, frutas])",
      "execution_count": 15,
      "outputs": [
        {
          "output_type": "execute_result",
          "execution_count": 15,
          "data": {
            "text/html": "<div>\n<style scoped>\n    .dataframe tbody tr th:only-of-type {\n        vertical-align: middle;\n    }\n\n    .dataframe tbody tr th {\n        vertical-align: top;\n    }\n\n    .dataframe thead th {\n        text-align: right;\n    }\n</style>\n<table border=\"1\" class=\"dataframe\">\n  <thead>\n    <tr style=\"text-align: right;\">\n      <th></th>\n      <th>0</th>\n      <th>1</th>\n      <th>2</th>\n      <th>3</th>\n    </tr>\n  </thead>\n  <tbody>\n    <tr>\n      <th>0</th>\n      <td>carlos</td>\n      <td>luis</td>\n      <td>sofia</td>\n      <td>andres</td>\n    </tr>\n    <tr>\n      <th>1</th>\n      <td>manzana</td>\n      <td>pera</td>\n      <td>limon</td>\n      <td>piña</td>\n    </tr>\n  </tbody>\n</table>\n</div>",
            "text/plain": "         0     1      2       3\n0   carlos  luis  sofia  andres\n1  manzana  pera  limon    piña"
          },
          "metadata": {}
        }
      ]
    },
    {
      "metadata": {
        "ExecuteTime": {
          "start_time": "2019-09-14T16:38:44.01359Z",
          "end_time": "2019-09-14T16:38:44.125706Z"
        },
        "trusted": true
      },
      "cell_type": "code",
      "source": "df =pd.DataFrame({'amigos': amigos, 'frutas': frutas})\ndf",
      "execution_count": 16,
      "outputs": [
        {
          "output_type": "execute_result",
          "execution_count": 16,
          "data": {
            "text/html": "<div>\n<style scoped>\n    .dataframe tbody tr th:only-of-type {\n        vertical-align: middle;\n    }\n\n    .dataframe tbody tr th {\n        vertical-align: top;\n    }\n\n    .dataframe thead th {\n        text-align: right;\n    }\n</style>\n<table border=\"1\" class=\"dataframe\">\n  <thead>\n    <tr style=\"text-align: right;\">\n      <th></th>\n      <th>amigos</th>\n      <th>frutas</th>\n    </tr>\n  </thead>\n  <tbody>\n    <tr>\n      <th>0</th>\n      <td>carlos</td>\n      <td>manzana</td>\n    </tr>\n    <tr>\n      <th>1</th>\n      <td>luis</td>\n      <td>pera</td>\n    </tr>\n    <tr>\n      <th>2</th>\n      <td>sofia</td>\n      <td>limon</td>\n    </tr>\n    <tr>\n      <th>3</th>\n      <td>andres</td>\n      <td>piña</td>\n    </tr>\n  </tbody>\n</table>\n</div>",
            "text/plain": "   amigos   frutas\n0  carlos  manzana\n1    luis     pera\n2   sofia    limon\n3  andres     piña"
          },
          "metadata": {}
        }
      ]
    },
    {
      "metadata": {
        "ExecuteTime": {
          "start_time": "2019-09-14T16:38:44.143151Z",
          "end_time": "2019-09-14T16:38:45.187356Z"
        },
        "trusted": true
      },
      "cell_type": "code",
      "source": "fechas = pd.date_range('20190101', periods=4)\nfechas",
      "execution_count": 17,
      "outputs": [
        {
          "output_type": "execute_result",
          "execution_count": 17,
          "data": {
            "text/plain": "DatetimeIndex(['2019-01-01', '2019-01-02', '2019-01-03', '2019-01-04'], dtype='datetime64[ns]', freq='D')"
          },
          "metadata": {}
        }
      ]
    },
    {
      "metadata": {
        "ExecuteTime": {
          "start_time": "2019-09-14T16:38:45.199172Z",
          "end_time": "2019-09-14T16:38:45.301547Z"
        },
        "trusted": true
      },
      "cell_type": "code",
      "source": "df.set_index(fechas, inplace=True)",
      "execution_count": 18,
      "outputs": []
    },
    {
      "metadata": {
        "ExecuteTime": {
          "start_time": "2019-09-14T16:38:45.309806Z",
          "end_time": "2019-09-14T16:38:45.435921Z"
        },
        "trusted": true
      },
      "cell_type": "code",
      "source": "df",
      "execution_count": 19,
      "outputs": [
        {
          "output_type": "execute_result",
          "execution_count": 19,
          "data": {
            "text/html": "<div>\n<style scoped>\n    .dataframe tbody tr th:only-of-type {\n        vertical-align: middle;\n    }\n\n    .dataframe tbody tr th {\n        vertical-align: top;\n    }\n\n    .dataframe thead th {\n        text-align: right;\n    }\n</style>\n<table border=\"1\" class=\"dataframe\">\n  <thead>\n    <tr style=\"text-align: right;\">\n      <th></th>\n      <th>amigos</th>\n      <th>frutas</th>\n    </tr>\n  </thead>\n  <tbody>\n    <tr>\n      <th>2019-01-01</th>\n      <td>carlos</td>\n      <td>manzana</td>\n    </tr>\n    <tr>\n      <th>2019-01-02</th>\n      <td>luis</td>\n      <td>pera</td>\n    </tr>\n    <tr>\n      <th>2019-01-03</th>\n      <td>sofia</td>\n      <td>limon</td>\n    </tr>\n    <tr>\n      <th>2019-01-04</th>\n      <td>andres</td>\n      <td>piña</td>\n    </tr>\n  </tbody>\n</table>\n</div>",
            "text/plain": "            amigos   frutas\n2019-01-01  carlos  manzana\n2019-01-02    luis     pera\n2019-01-03   sofia    limon\n2019-01-04  andres     piña"
          },
          "metadata": {}
        }
      ]
    },
    {
      "metadata": {
        "ExecuteTime": {
          "start_time": "2019-09-14T16:38:45.451322Z",
          "end_time": "2019-09-14T16:38:45.506626Z"
        },
        "trusted": true
      },
      "cell_type": "code",
      "source": "df.index.name = 'Fechas'",
      "execution_count": 20,
      "outputs": []
    },
    {
      "metadata": {
        "ExecuteTime": {
          "start_time": "2019-09-14T16:38:45.520024Z",
          "end_time": "2019-09-14T16:38:45.686765Z"
        },
        "trusted": true
      },
      "cell_type": "code",
      "source": "df",
      "execution_count": 21,
      "outputs": [
        {
          "output_type": "execute_result",
          "execution_count": 21,
          "data": {
            "text/html": "<div>\n<style scoped>\n    .dataframe tbody tr th:only-of-type {\n        vertical-align: middle;\n    }\n\n    .dataframe tbody tr th {\n        vertical-align: top;\n    }\n\n    .dataframe thead th {\n        text-align: right;\n    }\n</style>\n<table border=\"1\" class=\"dataframe\">\n  <thead>\n    <tr style=\"text-align: right;\">\n      <th></th>\n      <th>amigos</th>\n      <th>frutas</th>\n    </tr>\n    <tr>\n      <th>Fechas</th>\n      <th></th>\n      <th></th>\n    </tr>\n  </thead>\n  <tbody>\n    <tr>\n      <th>2019-01-01</th>\n      <td>carlos</td>\n      <td>manzana</td>\n    </tr>\n    <tr>\n      <th>2019-01-02</th>\n      <td>luis</td>\n      <td>pera</td>\n    </tr>\n    <tr>\n      <th>2019-01-03</th>\n      <td>sofia</td>\n      <td>limon</td>\n    </tr>\n    <tr>\n      <th>2019-01-04</th>\n      <td>andres</td>\n      <td>piña</td>\n    </tr>\n  </tbody>\n</table>\n</div>",
            "text/plain": "            amigos   frutas\nFechas                     \n2019-01-01  carlos  manzana\n2019-01-02    luis     pera\n2019-01-03   sofia    limon\n2019-01-04  andres     piña"
          },
          "metadata": {}
        }
      ]
    },
    {
      "metadata": {
        "ExecuteTime": {
          "start_time": "2019-09-14T16:38:45.693707Z",
          "end_time": "2019-09-14T16:38:45.81576Z"
        },
        "trusted": true
      },
      "cell_type": "code",
      "source": "df.rename(columns={'amigos': 'Amigos', 'frutas':'Frutas'}, inplace=True)",
      "execution_count": 22,
      "outputs": []
    },
    {
      "metadata": {
        "ExecuteTime": {
          "start_time": "2019-09-14T16:38:45.841368Z",
          "end_time": "2019-09-14T16:38:46.012639Z"
        },
        "trusted": true
      },
      "cell_type": "code",
      "source": "df",
      "execution_count": 23,
      "outputs": [
        {
          "output_type": "execute_result",
          "execution_count": 23,
          "data": {
            "text/html": "<div>\n<style scoped>\n    .dataframe tbody tr th:only-of-type {\n        vertical-align: middle;\n    }\n\n    .dataframe tbody tr th {\n        vertical-align: top;\n    }\n\n    .dataframe thead th {\n        text-align: right;\n    }\n</style>\n<table border=\"1\" class=\"dataframe\">\n  <thead>\n    <tr style=\"text-align: right;\">\n      <th></th>\n      <th>Amigos</th>\n      <th>Frutas</th>\n    </tr>\n    <tr>\n      <th>Fechas</th>\n      <th></th>\n      <th></th>\n    </tr>\n  </thead>\n  <tbody>\n    <tr>\n      <th>2019-01-01</th>\n      <td>carlos</td>\n      <td>manzana</td>\n    </tr>\n    <tr>\n      <th>2019-01-02</th>\n      <td>luis</td>\n      <td>pera</td>\n    </tr>\n    <tr>\n      <th>2019-01-03</th>\n      <td>sofia</td>\n      <td>limon</td>\n    </tr>\n    <tr>\n      <th>2019-01-04</th>\n      <td>andres</td>\n      <td>piña</td>\n    </tr>\n  </tbody>\n</table>\n</div>",
            "text/plain": "            Amigos   Frutas\nFechas                     \n2019-01-01  carlos  manzana\n2019-01-02    luis     pera\n2019-01-03   sofia    limon\n2019-01-04  andres     piña"
          },
          "metadata": {}
        }
      ]
    },
    {
      "metadata": {
        "ExecuteTime": {
          "start_time": "2019-09-14T16:38:46.041386Z",
          "end_time": "2019-09-14T16:38:46.21686Z"
        },
        "trusted": true
      },
      "cell_type": "code",
      "source": "df['Amigos']",
      "execution_count": 24,
      "outputs": [
        {
          "output_type": "execute_result",
          "execution_count": 24,
          "data": {
            "text/plain": "Fechas\n2019-01-01    carlos\n2019-01-02      luis\n2019-01-03     sofia\n2019-01-04    andres\nFreq: D, Name: Amigos, dtype: object"
          },
          "metadata": {}
        }
      ]
    },
    {
      "metadata": {
        "ExecuteTime": {
          "start_time": "2019-09-14T16:38:46.228031Z",
          "end_time": "2019-09-14T16:38:46.434145Z"
        },
        "trusted": true
      },
      "cell_type": "code",
      "source": "mask = df['Amigos'] == 'luis'",
      "execution_count": 25,
      "outputs": []
    },
    {
      "metadata": {
        "ExecuteTime": {
          "start_time": "2019-09-14T16:38:46.452021Z",
          "end_time": "2019-09-14T16:38:46.851485Z"
        },
        "trusted": true
      },
      "cell_type": "code",
      "source": "df[mask]",
      "execution_count": 26,
      "outputs": [
        {
          "output_type": "execute_result",
          "execution_count": 26,
          "data": {
            "text/html": "<div>\n<style scoped>\n    .dataframe tbody tr th:only-of-type {\n        vertical-align: middle;\n    }\n\n    .dataframe tbody tr th {\n        vertical-align: top;\n    }\n\n    .dataframe thead th {\n        text-align: right;\n    }\n</style>\n<table border=\"1\" class=\"dataframe\">\n  <thead>\n    <tr style=\"text-align: right;\">\n      <th></th>\n      <th>Amigos</th>\n      <th>Frutas</th>\n    </tr>\n    <tr>\n      <th>Fechas</th>\n      <th></th>\n      <th></th>\n    </tr>\n  </thead>\n  <tbody>\n    <tr>\n      <th>2019-01-02</th>\n      <td>luis</td>\n      <td>pera</td>\n    </tr>\n  </tbody>\n</table>\n</div>",
            "text/plain": "           Amigos Frutas\nFechas                  \n2019-01-02   luis   pera"
          },
          "metadata": {}
        }
      ]
    },
    {
      "metadata": {
        "ExecuteTime": {
          "start_time": "2019-09-14T16:38:46.86462Z",
          "end_time": "2019-09-14T16:38:46.995515Z"
        },
        "trusted": true
      },
      "cell_type": "code",
      "source": "df[df['Amigos'] == 'luis']",
      "execution_count": 27,
      "outputs": [
        {
          "output_type": "execute_result",
          "execution_count": 27,
          "data": {
            "text/html": "<div>\n<style scoped>\n    .dataframe tbody tr th:only-of-type {\n        vertical-align: middle;\n    }\n\n    .dataframe tbody tr th {\n        vertical-align: top;\n    }\n\n    .dataframe thead th {\n        text-align: right;\n    }\n</style>\n<table border=\"1\" class=\"dataframe\">\n  <thead>\n    <tr style=\"text-align: right;\">\n      <th></th>\n      <th>Amigos</th>\n      <th>Frutas</th>\n    </tr>\n    <tr>\n      <th>Fechas</th>\n      <th></th>\n      <th></th>\n    </tr>\n  </thead>\n  <tbody>\n    <tr>\n      <th>2019-01-02</th>\n      <td>luis</td>\n      <td>pera</td>\n    </tr>\n  </tbody>\n</table>\n</div>",
            "text/plain": "           Amigos Frutas\nFechas                  \n2019-01-02   luis   pera"
          },
          "metadata": {}
        }
      ]
    },
    {
      "metadata": {
        "ExecuteTime": {
          "start_time": "2019-09-14T16:38:47.00822Z",
          "end_time": "2019-09-14T16:38:47.481595Z"
        },
        "trusted": true
      },
      "cell_type": "code",
      "source": "df[df['Amigos'] == 'luis']['Frutas']",
      "execution_count": 28,
      "outputs": [
        {
          "output_type": "execute_result",
          "execution_count": 28,
          "data": {
            "text/plain": "Fechas\n2019-01-02    pera\nFreq: D, Name: Frutas, dtype: object"
          },
          "metadata": {}
        }
      ]
    },
    {
      "metadata": {
        "ExecuteTime": {
          "start_time": "2019-09-14T16:38:47.488547Z",
          "end_time": "2019-09-14T16:38:47.681423Z"
        },
        "trusted": true
      },
      "cell_type": "code",
      "source": "df[df['Amigos'] == 'luis']['Frutas'].values.tolist()",
      "execution_count": 29,
      "outputs": [
        {
          "output_type": "execute_result",
          "execution_count": 29,
          "data": {
            "text/plain": "['pera']"
          },
          "metadata": {}
        }
      ]
    },
    {
      "metadata": {
        "ExecuteTime": {
          "start_time": "2019-09-14T16:38:47.692838Z",
          "end_time": "2019-09-14T16:38:47.836641Z"
        },
        "trusted": true
      },
      "cell_type": "code",
      "source": "df[df['Amigos'] == 'luis']['Frutas'][0]",
      "execution_count": 30,
      "outputs": [
        {
          "output_type": "execute_result",
          "execution_count": 30,
          "data": {
            "text/plain": "'pera'"
          },
          "metadata": {}
        }
      ]
    },
    {
      "metadata": {
        "ExecuteTime": {
          "start_time": "2019-09-14T16:38:47.84964Z",
          "end_time": "2019-09-14T16:38:48.439209Z"
        },
        "trusted": true
      },
      "cell_type": "code",
      "source": "df[df['Amigos'] == 'luis']['Frutas'] = 'sandia'",
      "execution_count": 31,
      "outputs": [
        {
          "output_type": "stream",
          "text": "/home/nbuser/anaconda3_501/lib/python3.6/site-packages/ipykernel/__main__.py:1: SettingWithCopyWarning: \nA value is trying to be set on a copy of a slice from a DataFrame.\nTry using .loc[row_indexer,col_indexer] = value instead\n\nSee the caveats in the documentation: http://pandas.pydata.org/pandas-docs/stable/indexing.html#indexing-view-versus-copy\n  if __name__ == '__main__':\n",
          "name": "stderr"
        }
      ]
    },
    {
      "metadata": {
        "ExecuteTime": {
          "start_time": "2019-09-14T16:38:48.44581Z",
          "end_time": "2019-09-14T16:38:48.952385Z"
        },
        "trusted": true
      },
      "cell_type": "code",
      "source": "df",
      "execution_count": 32,
      "outputs": [
        {
          "output_type": "execute_result",
          "execution_count": 32,
          "data": {
            "text/html": "<div>\n<style scoped>\n    .dataframe tbody tr th:only-of-type {\n        vertical-align: middle;\n    }\n\n    .dataframe tbody tr th {\n        vertical-align: top;\n    }\n\n    .dataframe thead th {\n        text-align: right;\n    }\n</style>\n<table border=\"1\" class=\"dataframe\">\n  <thead>\n    <tr style=\"text-align: right;\">\n      <th></th>\n      <th>Amigos</th>\n      <th>Frutas</th>\n    </tr>\n    <tr>\n      <th>Fechas</th>\n      <th></th>\n      <th></th>\n    </tr>\n  </thead>\n  <tbody>\n    <tr>\n      <th>2019-01-01</th>\n      <td>carlos</td>\n      <td>manzana</td>\n    </tr>\n    <tr>\n      <th>2019-01-02</th>\n      <td>luis</td>\n      <td>pera</td>\n    </tr>\n    <tr>\n      <th>2019-01-03</th>\n      <td>sofia</td>\n      <td>limon</td>\n    </tr>\n    <tr>\n      <th>2019-01-04</th>\n      <td>andres</td>\n      <td>piña</td>\n    </tr>\n  </tbody>\n</table>\n</div>",
            "text/plain": "            Amigos   Frutas\nFechas                     \n2019-01-01  carlos  manzana\n2019-01-02    luis     pera\n2019-01-03   sofia    limon\n2019-01-04  andres     piña"
          },
          "metadata": {}
        }
      ]
    },
    {
      "metadata": {
        "ExecuteTime": {
          "start_time": "2019-09-14T16:38:48.96301Z",
          "end_time": "2019-09-14T16:38:49.157353Z"
        },
        "trusted": true
      },
      "cell_type": "code",
      "source": "df.loc[df['Amigos'] == 'luis', 'Frutas'] = 'naranja'",
      "execution_count": 33,
      "outputs": []
    },
    {
      "metadata": {
        "trusted": true,
        "ExecuteTime": {
          "start_time": "2019-09-14T16:38:49.174968Z",
          "end_time": "2019-09-14T16:38:49.354288Z"
        }
      },
      "cell_type": "code",
      "source": "df.loc['2019-01-02', 'Frutas'] = 'naranja'",
      "execution_count": 34,
      "outputs": []
    },
    {
      "metadata": {
        "ExecuteTime": {
          "start_time": "2019-09-14T16:38:49.379239Z",
          "end_time": "2019-09-14T16:38:49.518758Z"
        },
        "trusted": true
      },
      "cell_type": "code",
      "source": "df",
      "execution_count": 35,
      "outputs": [
        {
          "output_type": "execute_result",
          "execution_count": 35,
          "data": {
            "text/html": "<div>\n<style scoped>\n    .dataframe tbody tr th:only-of-type {\n        vertical-align: middle;\n    }\n\n    .dataframe tbody tr th {\n        vertical-align: top;\n    }\n\n    .dataframe thead th {\n        text-align: right;\n    }\n</style>\n<table border=\"1\" class=\"dataframe\">\n  <thead>\n    <tr style=\"text-align: right;\">\n      <th></th>\n      <th>Amigos</th>\n      <th>Frutas</th>\n    </tr>\n    <tr>\n      <th>Fechas</th>\n      <th></th>\n      <th></th>\n    </tr>\n  </thead>\n  <tbody>\n    <tr>\n      <th>2019-01-01</th>\n      <td>carlos</td>\n      <td>manzana</td>\n    </tr>\n    <tr>\n      <th>2019-01-02</th>\n      <td>luis</td>\n      <td>naranja</td>\n    </tr>\n    <tr>\n      <th>2019-01-03</th>\n      <td>sofia</td>\n      <td>limon</td>\n    </tr>\n    <tr>\n      <th>2019-01-04</th>\n      <td>andres</td>\n      <td>piña</td>\n    </tr>\n  </tbody>\n</table>\n</div>",
            "text/plain": "            Amigos   Frutas\nFechas                     \n2019-01-01  carlos  manzana\n2019-01-02    luis  naranja\n2019-01-03   sofia    limon\n2019-01-04  andres     piña"
          },
          "metadata": {}
        }
      ]
    },
    {
      "metadata": {
        "ExecuteTime": {
          "start_time": "2019-09-14T16:38:49.530329Z",
          "end_time": "2019-09-14T16:38:49.612098Z"
        },
        "trusted": true
      },
      "cell_type": "code",
      "source": "df.loc[df['Frutas'] == 'limon', 'Amigos']",
      "execution_count": 36,
      "outputs": [
        {
          "output_type": "execute_result",
          "execution_count": 36,
          "data": {
            "text/plain": "Fechas\n2019-01-03    sofia\nFreq: D, Name: Amigos, dtype: object"
          },
          "metadata": {}
        }
      ]
    },
    {
      "metadata": {
        "ExecuteTime": {
          "start_time": "2019-09-14T16:38:49.618923Z",
          "end_time": "2019-09-14T16:38:49.884057Z"
        },
        "trusted": true
      },
      "cell_type": "code",
      "source": "df.loc[df['Amigos'] == 'sofia', 'Frutas'] = df.loc[df['Amigos'] == 'luis', 'Frutas'][0]",
      "execution_count": 37,
      "outputs": []
    },
    {
      "metadata": {
        "ExecuteTime": {
          "start_time": "2019-09-14T16:38:49.887829Z",
          "end_time": "2019-09-14T16:38:50.190496Z"
        },
        "trusted": true
      },
      "cell_type": "code",
      "source": "df.loc[df['Amigos'] == 'luis', 'Frutas'][0]",
      "execution_count": 38,
      "outputs": [
        {
          "output_type": "execute_result",
          "execution_count": 38,
          "data": {
            "text/plain": "'naranja'"
          },
          "metadata": {}
        }
      ]
    },
    {
      "metadata": {
        "ExecuteTime": {
          "start_time": "2019-09-14T16:38:50.212491Z",
          "end_time": "2019-09-14T16:38:50.673796Z"
        },
        "trusted": true
      },
      "cell_type": "code",
      "source": "df",
      "execution_count": 39,
      "outputs": [
        {
          "output_type": "execute_result",
          "execution_count": 39,
          "data": {
            "text/html": "<div>\n<style scoped>\n    .dataframe tbody tr th:only-of-type {\n        vertical-align: middle;\n    }\n\n    .dataframe tbody tr th {\n        vertical-align: top;\n    }\n\n    .dataframe thead th {\n        text-align: right;\n    }\n</style>\n<table border=\"1\" class=\"dataframe\">\n  <thead>\n    <tr style=\"text-align: right;\">\n      <th></th>\n      <th>Amigos</th>\n      <th>Frutas</th>\n    </tr>\n    <tr>\n      <th>Fechas</th>\n      <th></th>\n      <th></th>\n    </tr>\n  </thead>\n  <tbody>\n    <tr>\n      <th>2019-01-01</th>\n      <td>carlos</td>\n      <td>manzana</td>\n    </tr>\n    <tr>\n      <th>2019-01-02</th>\n      <td>luis</td>\n      <td>naranja</td>\n    </tr>\n    <tr>\n      <th>2019-01-03</th>\n      <td>sofia</td>\n      <td>naranja</td>\n    </tr>\n    <tr>\n      <th>2019-01-04</th>\n      <td>andres</td>\n      <td>piña</td>\n    </tr>\n  </tbody>\n</table>\n</div>",
            "text/plain": "            Amigos   Frutas\nFechas                     \n2019-01-01  carlos  manzana\n2019-01-02    luis  naranja\n2019-01-03   sofia  naranja\n2019-01-04  andres     piña"
          },
          "metadata": {}
        }
      ]
    },
    {
      "metadata": {
        "ExecuteTime": {
          "start_time": "2019-09-14T16:38:50.689509Z",
          "end_time": "2019-09-14T16:38:50.821414Z"
        },
        "trusted": true
      },
      "cell_type": "code",
      "source": "df.iloc[1:,1:]",
      "execution_count": 40,
      "outputs": [
        {
          "output_type": "execute_result",
          "execution_count": 40,
          "data": {
            "text/html": "<div>\n<style scoped>\n    .dataframe tbody tr th:only-of-type {\n        vertical-align: middle;\n    }\n\n    .dataframe tbody tr th {\n        vertical-align: top;\n    }\n\n    .dataframe thead th {\n        text-align: right;\n    }\n</style>\n<table border=\"1\" class=\"dataframe\">\n  <thead>\n    <tr style=\"text-align: right;\">\n      <th></th>\n      <th>Frutas</th>\n    </tr>\n    <tr>\n      <th>Fechas</th>\n      <th></th>\n    </tr>\n  </thead>\n  <tbody>\n    <tr>\n      <th>2019-01-02</th>\n      <td>naranja</td>\n    </tr>\n    <tr>\n      <th>2019-01-03</th>\n      <td>naranja</td>\n    </tr>\n    <tr>\n      <th>2019-01-04</th>\n      <td>piña</td>\n    </tr>\n  </tbody>\n</table>\n</div>",
            "text/plain": "             Frutas\nFechas             \n2019-01-02  naranja\n2019-01-03  naranja\n2019-01-04     piña"
          },
          "metadata": {}
        }
      ]
    },
    {
      "metadata": {
        "trusted": true,
        "ExecuteTime": {
          "start_time": "2019-09-14T16:38:50.839221Z",
          "end_time": "2019-09-14T16:38:50.93346Z"
        }
      },
      "cell_type": "code",
      "source": "df.loc['20190102':'20190103']",
      "execution_count": 41,
      "outputs": [
        {
          "output_type": "execute_result",
          "execution_count": 41,
          "data": {
            "text/html": "<div>\n<style scoped>\n    .dataframe tbody tr th:only-of-type {\n        vertical-align: middle;\n    }\n\n    .dataframe tbody tr th {\n        vertical-align: top;\n    }\n\n    .dataframe thead th {\n        text-align: right;\n    }\n</style>\n<table border=\"1\" class=\"dataframe\">\n  <thead>\n    <tr style=\"text-align: right;\">\n      <th></th>\n      <th>Amigos</th>\n      <th>Frutas</th>\n    </tr>\n    <tr>\n      <th>Fechas</th>\n      <th></th>\n      <th></th>\n    </tr>\n  </thead>\n  <tbody>\n    <tr>\n      <th>2019-01-02</th>\n      <td>luis</td>\n      <td>naranja</td>\n    </tr>\n    <tr>\n      <th>2019-01-03</th>\n      <td>sofia</td>\n      <td>naranja</td>\n    </tr>\n  </tbody>\n</table>\n</div>",
            "text/plain": "           Amigos   Frutas\nFechas                    \n2019-01-02   luis  naranja\n2019-01-03  sofia  naranja"
          },
          "metadata": {}
        }
      ]
    },
    {
      "metadata": {
        "ExecuteTime": {
          "start_time": "2019-09-14T16:38:50.952003Z",
          "end_time": "2019-09-14T16:38:51.057661Z"
        },
        "trusted": true
      },
      "cell_type": "code",
      "source": "df.index.month  == 1",
      "execution_count": 42,
      "outputs": [
        {
          "output_type": "execute_result",
          "execution_count": 42,
          "data": {
            "text/plain": "array([ True,  True,  True,  True])"
          },
          "metadata": {}
        }
      ]
    },
    {
      "metadata": {
        "ExecuteTime": {
          "start_time": "2019-09-14T16:38:51.075414Z",
          "end_time": "2019-09-14T16:38:51.221973Z"
        },
        "trusted": true
      },
      "cell_type": "code",
      "source": "df[df.index.day  == 3]",
      "execution_count": 43,
      "outputs": [
        {
          "output_type": "execute_result",
          "execution_count": 43,
          "data": {
            "text/html": "<div>\n<style scoped>\n    .dataframe tbody tr th:only-of-type {\n        vertical-align: middle;\n    }\n\n    .dataframe tbody tr th {\n        vertical-align: top;\n    }\n\n    .dataframe thead th {\n        text-align: right;\n    }\n</style>\n<table border=\"1\" class=\"dataframe\">\n  <thead>\n    <tr style=\"text-align: right;\">\n      <th></th>\n      <th>Amigos</th>\n      <th>Frutas</th>\n    </tr>\n    <tr>\n      <th>Fechas</th>\n      <th></th>\n      <th></th>\n    </tr>\n  </thead>\n  <tbody>\n    <tr>\n      <th>2019-01-03</th>\n      <td>sofia</td>\n      <td>naranja</td>\n    </tr>\n  </tbody>\n</table>\n</div>",
            "text/plain": "           Amigos   Frutas\nFechas                    \n2019-01-03  sofia  naranja"
          },
          "metadata": {}
        }
      ]
    },
    {
      "metadata": {
        "ExecuteTime": {
          "start_time": "2019-09-14T16:38:51.234704Z",
          "end_time": "2019-09-14T16:38:51.344738Z"
        },
        "trusted": true
      },
      "cell_type": "code",
      "source": "df2 = pd.DataFrame({'A': 1.,\n                     'B': pd.Timestamp('20130102'),\n                     'C': pd.Series(1, index=list(range(4)), dtype='float32'),\n                     'D': np.array([3] * 4, dtype='int32'),\n                     'E': pd.Categorical([\"test\", \"train\", \"test\", \"train\"]),\n                     'F': 'foo'})",
      "execution_count": 44,
      "outputs": []
    },
    {
      "metadata": {
        "ExecuteTime": {
          "start_time": "2019-09-14T16:38:51.355934Z",
          "end_time": "2019-09-14T16:38:51.596808Z"
        },
        "trusted": true
      },
      "cell_type": "code",
      "source": "df2",
      "execution_count": 45,
      "outputs": [
        {
          "output_type": "execute_result",
          "execution_count": 45,
          "data": {
            "text/html": "<div>\n<style scoped>\n    .dataframe tbody tr th:only-of-type {\n        vertical-align: middle;\n    }\n\n    .dataframe tbody tr th {\n        vertical-align: top;\n    }\n\n    .dataframe thead th {\n        text-align: right;\n    }\n</style>\n<table border=\"1\" class=\"dataframe\">\n  <thead>\n    <tr style=\"text-align: right;\">\n      <th></th>\n      <th>A</th>\n      <th>B</th>\n      <th>C</th>\n      <th>D</th>\n      <th>E</th>\n      <th>F</th>\n    </tr>\n  </thead>\n  <tbody>\n    <tr>\n      <th>0</th>\n      <td>1.0</td>\n      <td>2013-01-02</td>\n      <td>1.0</td>\n      <td>3</td>\n      <td>test</td>\n      <td>foo</td>\n    </tr>\n    <tr>\n      <th>1</th>\n      <td>1.0</td>\n      <td>2013-01-02</td>\n      <td>1.0</td>\n      <td>3</td>\n      <td>train</td>\n      <td>foo</td>\n    </tr>\n    <tr>\n      <th>2</th>\n      <td>1.0</td>\n      <td>2013-01-02</td>\n      <td>1.0</td>\n      <td>3</td>\n      <td>test</td>\n      <td>foo</td>\n    </tr>\n    <tr>\n      <th>3</th>\n      <td>1.0</td>\n      <td>2013-01-02</td>\n      <td>1.0</td>\n      <td>3</td>\n      <td>train</td>\n      <td>foo</td>\n    </tr>\n  </tbody>\n</table>\n</div>",
            "text/plain": "     A          B    C  D      E    F\n0  1.0 2013-01-02  1.0  3   test  foo\n1  1.0 2013-01-02  1.0  3  train  foo\n2  1.0 2013-01-02  1.0  3   test  foo\n3  1.0 2013-01-02  1.0  3  train  foo"
          },
          "metadata": {}
        }
      ]
    },
    {
      "metadata": {
        "ExecuteTime": {
          "start_time": "2019-09-14T16:38:51.617816Z",
          "end_time": "2019-09-14T16:38:51.744436Z"
        },
        "trusted": true
      },
      "cell_type": "code",
      "source": "df2.dtypes",
      "execution_count": 46,
      "outputs": [
        {
          "output_type": "execute_result",
          "execution_count": 46,
          "data": {
            "text/plain": "A           float64\nB    datetime64[ns]\nC           float32\nD             int32\nE          category\nF            object\ndtype: object"
          },
          "metadata": {}
        }
      ]
    },
    {
      "metadata": {
        "ExecuteTime": {
          "start_time": "2019-09-14T16:38:51.756837Z",
          "end_time": "2019-09-14T16:38:51.822596Z"
        },
        "trusted": true
      },
      "cell_type": "code",
      "source": "df2.set_index(fechas, inplace=True)",
      "execution_count": 47,
      "outputs": []
    },
    {
      "metadata": {
        "ExecuteTime": {
          "start_time": "2019-09-14T16:38:51.832346Z",
          "end_time": "2019-09-14T16:38:51.975244Z"
        },
        "trusted": true
      },
      "cell_type": "code",
      "source": "df2",
      "execution_count": 48,
      "outputs": [
        {
          "output_type": "execute_result",
          "execution_count": 48,
          "data": {
            "text/html": "<div>\n<style scoped>\n    .dataframe tbody tr th:only-of-type {\n        vertical-align: middle;\n    }\n\n    .dataframe tbody tr th {\n        vertical-align: top;\n    }\n\n    .dataframe thead th {\n        text-align: right;\n    }\n</style>\n<table border=\"1\" class=\"dataframe\">\n  <thead>\n    <tr style=\"text-align: right;\">\n      <th></th>\n      <th>A</th>\n      <th>B</th>\n      <th>C</th>\n      <th>D</th>\n      <th>E</th>\n      <th>F</th>\n    </tr>\n  </thead>\n  <tbody>\n    <tr>\n      <th>2019-01-01</th>\n      <td>1.0</td>\n      <td>2013-01-02</td>\n      <td>1.0</td>\n      <td>3</td>\n      <td>test</td>\n      <td>foo</td>\n    </tr>\n    <tr>\n      <th>2019-01-02</th>\n      <td>1.0</td>\n      <td>2013-01-02</td>\n      <td>1.0</td>\n      <td>3</td>\n      <td>train</td>\n      <td>foo</td>\n    </tr>\n    <tr>\n      <th>2019-01-03</th>\n      <td>1.0</td>\n      <td>2013-01-02</td>\n      <td>1.0</td>\n      <td>3</td>\n      <td>test</td>\n      <td>foo</td>\n    </tr>\n    <tr>\n      <th>2019-01-04</th>\n      <td>1.0</td>\n      <td>2013-01-02</td>\n      <td>1.0</td>\n      <td>3</td>\n      <td>train</td>\n      <td>foo</td>\n    </tr>\n  </tbody>\n</table>\n</div>",
            "text/plain": "              A          B    C  D      E    F\n2019-01-01  1.0 2013-01-02  1.0  3   test  foo\n2019-01-02  1.0 2013-01-02  1.0  3  train  foo\n2019-01-03  1.0 2013-01-02  1.0  3   test  foo\n2019-01-04  1.0 2013-01-02  1.0  3  train  foo"
          },
          "metadata": {}
        }
      ]
    },
    {
      "metadata": {
        "ExecuteTime": {
          "start_time": "2019-09-14T16:38:52.003813Z",
          "end_time": "2019-09-14T16:38:52.051006Z"
        },
        "trusted": true
      },
      "cell_type": "code",
      "source": "df",
      "execution_count": 49,
      "outputs": [
        {
          "output_type": "execute_result",
          "execution_count": 49,
          "data": {
            "text/html": "<div>\n<style scoped>\n    .dataframe tbody tr th:only-of-type {\n        vertical-align: middle;\n    }\n\n    .dataframe tbody tr th {\n        vertical-align: top;\n    }\n\n    .dataframe thead th {\n        text-align: right;\n    }\n</style>\n<table border=\"1\" class=\"dataframe\">\n  <thead>\n    <tr style=\"text-align: right;\">\n      <th></th>\n      <th>Amigos</th>\n      <th>Frutas</th>\n    </tr>\n    <tr>\n      <th>Fechas</th>\n      <th></th>\n      <th></th>\n    </tr>\n  </thead>\n  <tbody>\n    <tr>\n      <th>2019-01-01</th>\n      <td>carlos</td>\n      <td>manzana</td>\n    </tr>\n    <tr>\n      <th>2019-01-02</th>\n      <td>luis</td>\n      <td>naranja</td>\n    </tr>\n    <tr>\n      <th>2019-01-03</th>\n      <td>sofia</td>\n      <td>naranja</td>\n    </tr>\n    <tr>\n      <th>2019-01-04</th>\n      <td>andres</td>\n      <td>piña</td>\n    </tr>\n  </tbody>\n</table>\n</div>",
            "text/plain": "            Amigos   Frutas\nFechas                     \n2019-01-01  carlos  manzana\n2019-01-02    luis  naranja\n2019-01-03   sofia  naranja\n2019-01-04  andres     piña"
          },
          "metadata": {}
        }
      ]
    },
    {
      "metadata": {},
      "cell_type": "markdown",
      "source": "# union de dataframes"
    },
    {
      "metadata": {
        "ExecuteTime": {
          "start_time": "2019-09-14T16:38:52.068527Z",
          "end_time": "2019-09-14T16:38:52.743812Z"
        },
        "trusted": true
      },
      "cell_type": "code",
      "source": "df + df2",
      "execution_count": 50,
      "outputs": [
        {
          "output_type": "execute_result",
          "execution_count": 50,
          "data": {
            "text/html": "<div>\n<style scoped>\n    .dataframe tbody tr th:only-of-type {\n        vertical-align: middle;\n    }\n\n    .dataframe tbody tr th {\n        vertical-align: top;\n    }\n\n    .dataframe thead th {\n        text-align: right;\n    }\n</style>\n<table border=\"1\" class=\"dataframe\">\n  <thead>\n    <tr style=\"text-align: right;\">\n      <th></th>\n      <th>A</th>\n      <th>Amigos</th>\n      <th>B</th>\n      <th>C</th>\n      <th>D</th>\n      <th>E</th>\n      <th>F</th>\n      <th>Frutas</th>\n    </tr>\n    <tr>\n      <th>Fechas</th>\n      <th></th>\n      <th></th>\n      <th></th>\n      <th></th>\n      <th></th>\n      <th></th>\n      <th></th>\n      <th></th>\n    </tr>\n  </thead>\n  <tbody>\n    <tr>\n      <th>2019-01-01</th>\n      <td>NaN</td>\n      <td>NaN</td>\n      <td>NaN</td>\n      <td>NaN</td>\n      <td>NaN</td>\n      <td>NaN</td>\n      <td>NaN</td>\n      <td>NaN</td>\n    </tr>\n    <tr>\n      <th>2019-01-02</th>\n      <td>NaN</td>\n      <td>NaN</td>\n      <td>NaN</td>\n      <td>NaN</td>\n      <td>NaN</td>\n      <td>NaN</td>\n      <td>NaN</td>\n      <td>NaN</td>\n    </tr>\n    <tr>\n      <th>2019-01-03</th>\n      <td>NaN</td>\n      <td>NaN</td>\n      <td>NaN</td>\n      <td>NaN</td>\n      <td>NaN</td>\n      <td>NaN</td>\n      <td>NaN</td>\n      <td>NaN</td>\n    </tr>\n    <tr>\n      <th>2019-01-04</th>\n      <td>NaN</td>\n      <td>NaN</td>\n      <td>NaN</td>\n      <td>NaN</td>\n      <td>NaN</td>\n      <td>NaN</td>\n      <td>NaN</td>\n      <td>NaN</td>\n    </tr>\n  </tbody>\n</table>\n</div>",
            "text/plain": "             A Amigos    B   C   D    E    F Frutas\nFechas                                             \n2019-01-01 NaN    NaN  NaN NaN NaN  NaN  NaN    NaN\n2019-01-02 NaN    NaN  NaN NaN NaN  NaN  NaN    NaN\n2019-01-03 NaN    NaN  NaN NaN NaN  NaN  NaN    NaN\n2019-01-04 NaN    NaN  NaN NaN NaN  NaN  NaN    NaN"
          },
          "metadata": {}
        }
      ]
    },
    {
      "metadata": {
        "ExecuteTime": {
          "start_time": "2019-09-14T16:39:31.651305Z",
          "end_time": "2019-09-14T16:39:31.786498Z"
        },
        "trusted": true
      },
      "cell_type": "code",
      "source": "df.append(df2)",
      "execution_count": 51,
      "outputs": [
        {
          "output_type": "stream",
          "text": "/home/nbuser/anaconda3_501/lib/python3.6/site-packages/pandas/core/frame.py:6211: FutureWarning: Sorting because non-concatenation axis is not aligned. A future version\nof pandas will change to not sort by default.\n\nTo accept the future behavior, pass 'sort=False'.\n\nTo retain the current behavior and silence the warning, pass 'sort=True'.\n\n  sort=sort)\n",
          "name": "stderr"
        },
        {
          "output_type": "execute_result",
          "execution_count": 51,
          "data": {
            "text/html": "<div>\n<style scoped>\n    .dataframe tbody tr th:only-of-type {\n        vertical-align: middle;\n    }\n\n    .dataframe tbody tr th {\n        vertical-align: top;\n    }\n\n    .dataframe thead th {\n        text-align: right;\n    }\n</style>\n<table border=\"1\" class=\"dataframe\">\n  <thead>\n    <tr style=\"text-align: right;\">\n      <th></th>\n      <th>A</th>\n      <th>Amigos</th>\n      <th>B</th>\n      <th>C</th>\n      <th>D</th>\n      <th>E</th>\n      <th>F</th>\n      <th>Frutas</th>\n    </tr>\n  </thead>\n  <tbody>\n    <tr>\n      <th>2019-01-01</th>\n      <td>NaN</td>\n      <td>carlos</td>\n      <td>NaT</td>\n      <td>NaN</td>\n      <td>NaN</td>\n      <td>NaN</td>\n      <td>NaN</td>\n      <td>manzana</td>\n    </tr>\n    <tr>\n      <th>2019-01-02</th>\n      <td>NaN</td>\n      <td>luis</td>\n      <td>NaT</td>\n      <td>NaN</td>\n      <td>NaN</td>\n      <td>NaN</td>\n      <td>NaN</td>\n      <td>naranja</td>\n    </tr>\n    <tr>\n      <th>2019-01-03</th>\n      <td>NaN</td>\n      <td>sofia</td>\n      <td>NaT</td>\n      <td>NaN</td>\n      <td>NaN</td>\n      <td>NaN</td>\n      <td>NaN</td>\n      <td>naranja</td>\n    </tr>\n    <tr>\n      <th>2019-01-04</th>\n      <td>NaN</td>\n      <td>andres</td>\n      <td>NaT</td>\n      <td>NaN</td>\n      <td>NaN</td>\n      <td>NaN</td>\n      <td>NaN</td>\n      <td>piña</td>\n    </tr>\n    <tr>\n      <th>2019-01-01</th>\n      <td>1.0</td>\n      <td>NaN</td>\n      <td>2013-01-02</td>\n      <td>1.0</td>\n      <td>3.0</td>\n      <td>test</td>\n      <td>foo</td>\n      <td>NaN</td>\n    </tr>\n    <tr>\n      <th>2019-01-02</th>\n      <td>1.0</td>\n      <td>NaN</td>\n      <td>2013-01-02</td>\n      <td>1.0</td>\n      <td>3.0</td>\n      <td>train</td>\n      <td>foo</td>\n      <td>NaN</td>\n    </tr>\n    <tr>\n      <th>2019-01-03</th>\n      <td>1.0</td>\n      <td>NaN</td>\n      <td>2013-01-02</td>\n      <td>1.0</td>\n      <td>3.0</td>\n      <td>test</td>\n      <td>foo</td>\n      <td>NaN</td>\n    </tr>\n    <tr>\n      <th>2019-01-04</th>\n      <td>1.0</td>\n      <td>NaN</td>\n      <td>2013-01-02</td>\n      <td>1.0</td>\n      <td>3.0</td>\n      <td>train</td>\n      <td>foo</td>\n      <td>NaN</td>\n    </tr>\n  </tbody>\n</table>\n</div>",
            "text/plain": "              A  Amigos          B    C    D      E    F   Frutas\n2019-01-01  NaN  carlos        NaT  NaN  NaN    NaN  NaN  manzana\n2019-01-02  NaN    luis        NaT  NaN  NaN    NaN  NaN  naranja\n2019-01-03  NaN   sofia        NaT  NaN  NaN    NaN  NaN  naranja\n2019-01-04  NaN  andres        NaT  NaN  NaN    NaN  NaN     piña\n2019-01-01  1.0     NaN 2013-01-02  1.0  3.0   test  foo      NaN\n2019-01-02  1.0     NaN 2013-01-02  1.0  3.0  train  foo      NaN\n2019-01-03  1.0     NaN 2013-01-02  1.0  3.0   test  foo      NaN\n2019-01-04  1.0     NaN 2013-01-02  1.0  3.0  train  foo      NaN"
          },
          "metadata": {}
        }
      ]
    },
    {
      "metadata": {
        "ExecuteTime": {
          "start_time": "2019-09-14T16:51:07.215385Z",
          "end_time": "2019-09-14T16:51:07.344718Z"
        },
        "trusted": true
      },
      "cell_type": "code",
      "source": "df.append(df2,verify_integrity=True)",
      "execution_count": 55,
      "outputs": [
        {
          "output_type": "stream",
          "text": "/home/nbuser/anaconda3_501/lib/python3.6/site-packages/pandas/core/frame.py:6211: FutureWarning: Sorting because non-concatenation axis is not aligned. A future version\nof pandas will change to not sort by default.\n\nTo accept the future behavior, pass 'sort=False'.\n\nTo retain the current behavior and silence the warning, pass 'sort=True'.\n\n  sort=sort)\n",
          "name": "stderr"
        },
        {
          "output_type": "error",
          "ename": "ValueError",
          "evalue": "Indexes have overlapping values: DatetimeIndex(['2019-01-01', '2019-01-02', '2019-01-03', '2019-01-04'], dtype='datetime64[ns]', freq=None)",
          "traceback": [
            "\u001b[0;31m---------------------------------------------------------------------------\u001b[0m",
            "\u001b[0;31mValueError\u001b[0m                                Traceback (most recent call last)",
            "\u001b[0;32m<ipython-input-55-5b9689477b0b>\u001b[0m in \u001b[0;36m<module>\u001b[0;34m\u001b[0m\n\u001b[0;32m----> 1\u001b[0;31m \u001b[0mdf\u001b[0m\u001b[0;34m.\u001b[0m\u001b[0mappend\u001b[0m\u001b[0;34m(\u001b[0m\u001b[0mdf2\u001b[0m\u001b[0;34m,\u001b[0m\u001b[0mverify_integrity\u001b[0m\u001b[0;34m=\u001b[0m\u001b[0;32mTrue\u001b[0m\u001b[0;34m)\u001b[0m\u001b[0;34m\u001b[0m\u001b[0m\n\u001b[0m",
            "\u001b[0;32m~/anaconda3_501/lib/python3.6/site-packages/pandas/core/frame.py\u001b[0m in \u001b[0;36mappend\u001b[0;34m(self, other, ignore_index, verify_integrity, sort)\u001b[0m\n\u001b[1;32m   6209\u001b[0m         return concat(to_concat, ignore_index=ignore_index,\n\u001b[1;32m   6210\u001b[0m                       \u001b[0mverify_integrity\u001b[0m\u001b[0;34m=\u001b[0m\u001b[0mverify_integrity\u001b[0m\u001b[0;34m,\u001b[0m\u001b[0;34m\u001b[0m\u001b[0m\n\u001b[0;32m-> 6211\u001b[0;31m                       sort=sort)\n\u001b[0m\u001b[1;32m   6212\u001b[0m \u001b[0;34m\u001b[0m\u001b[0m\n\u001b[1;32m   6213\u001b[0m     def join(self, other, on=None, how='left', lsuffix='', rsuffix='',\n",
            "\u001b[0;32m~/anaconda3_501/lib/python3.6/site-packages/pandas/core/reshape/concat.py\u001b[0m in \u001b[0;36mconcat\u001b[0;34m(objs, axis, join, join_axes, ignore_index, keys, levels, names, verify_integrity, sort, copy)\u001b[0m\n\u001b[1;32m    223\u001b[0m                        \u001b[0mkeys\u001b[0m\u001b[0;34m=\u001b[0m\u001b[0mkeys\u001b[0m\u001b[0;34m,\u001b[0m \u001b[0mlevels\u001b[0m\u001b[0;34m=\u001b[0m\u001b[0mlevels\u001b[0m\u001b[0;34m,\u001b[0m \u001b[0mnames\u001b[0m\u001b[0;34m=\u001b[0m\u001b[0mnames\u001b[0m\u001b[0;34m,\u001b[0m\u001b[0;34m\u001b[0m\u001b[0m\n\u001b[1;32m    224\u001b[0m                        \u001b[0mverify_integrity\u001b[0m\u001b[0;34m=\u001b[0m\u001b[0mverify_integrity\u001b[0m\u001b[0;34m,\u001b[0m\u001b[0;34m\u001b[0m\u001b[0m\n\u001b[0;32m--> 225\u001b[0;31m                        copy=copy, sort=sort)\n\u001b[0m\u001b[1;32m    226\u001b[0m     \u001b[0;32mreturn\u001b[0m \u001b[0mop\u001b[0m\u001b[0;34m.\u001b[0m\u001b[0mget_result\u001b[0m\u001b[0;34m(\u001b[0m\u001b[0;34m)\u001b[0m\u001b[0;34m\u001b[0m\u001b[0m\n\u001b[1;32m    227\u001b[0m \u001b[0;34m\u001b[0m\u001b[0m\n",
            "\u001b[0;32m~/anaconda3_501/lib/python3.6/site-packages/pandas/core/reshape/concat.py\u001b[0m in \u001b[0;36m__init__\u001b[0;34m(self, objs, axis, join, join_axes, keys, levels, names, ignore_index, verify_integrity, copy, sort)\u001b[0m\n\u001b[1;32m    376\u001b[0m         \u001b[0mself\u001b[0m\u001b[0;34m.\u001b[0m\u001b[0mcopy\u001b[0m \u001b[0;34m=\u001b[0m \u001b[0mcopy\u001b[0m\u001b[0;34m\u001b[0m\u001b[0m\n\u001b[1;32m    377\u001b[0m \u001b[0;34m\u001b[0m\u001b[0m\n\u001b[0;32m--> 378\u001b[0;31m         \u001b[0mself\u001b[0m\u001b[0;34m.\u001b[0m\u001b[0mnew_axes\u001b[0m \u001b[0;34m=\u001b[0m \u001b[0mself\u001b[0m\u001b[0;34m.\u001b[0m\u001b[0m_get_new_axes\u001b[0m\u001b[0;34m(\u001b[0m\u001b[0;34m)\u001b[0m\u001b[0;34m\u001b[0m\u001b[0m\n\u001b[0m\u001b[1;32m    379\u001b[0m \u001b[0;34m\u001b[0m\u001b[0m\n\u001b[1;32m    380\u001b[0m     \u001b[0;32mdef\u001b[0m \u001b[0mget_result\u001b[0m\u001b[0;34m(\u001b[0m\u001b[0mself\u001b[0m\u001b[0;34m)\u001b[0m\u001b[0;34m:\u001b[0m\u001b[0;34m\u001b[0m\u001b[0m\n",
            "\u001b[0;32m~/anaconda3_501/lib/python3.6/site-packages/pandas/core/reshape/concat.py\u001b[0m in \u001b[0;36m_get_new_axes\u001b[0;34m(self)\u001b[0m\n\u001b[1;32m    456\u001b[0m                 \u001b[0mnew_axes\u001b[0m\u001b[0;34m[\u001b[0m\u001b[0mi\u001b[0m\u001b[0;34m]\u001b[0m \u001b[0;34m=\u001b[0m \u001b[0max\u001b[0m\u001b[0;34m\u001b[0m\u001b[0m\n\u001b[1;32m    457\u001b[0m \u001b[0;34m\u001b[0m\u001b[0m\n\u001b[0;32m--> 458\u001b[0;31m         \u001b[0mnew_axes\u001b[0m\u001b[0;34m[\u001b[0m\u001b[0mself\u001b[0m\u001b[0;34m.\u001b[0m\u001b[0maxis\u001b[0m\u001b[0;34m]\u001b[0m \u001b[0;34m=\u001b[0m \u001b[0mself\u001b[0m\u001b[0;34m.\u001b[0m\u001b[0m_get_concat_axis\u001b[0m\u001b[0;34m(\u001b[0m\u001b[0;34m)\u001b[0m\u001b[0;34m\u001b[0m\u001b[0m\n\u001b[0m\u001b[1;32m    459\u001b[0m         \u001b[0;32mreturn\u001b[0m \u001b[0mnew_axes\u001b[0m\u001b[0;34m\u001b[0m\u001b[0m\n\u001b[1;32m    460\u001b[0m \u001b[0;34m\u001b[0m\u001b[0m\n",
            "\u001b[0;32m~/anaconda3_501/lib/python3.6/site-packages/pandas/core/reshape/concat.py\u001b[0m in \u001b[0;36m_get_concat_axis\u001b[0;34m(self)\u001b[0m\n\u001b[1;32m    514\u001b[0m                                                   self.levels, self.names)\n\u001b[1;32m    515\u001b[0m \u001b[0;34m\u001b[0m\u001b[0m\n\u001b[0;32m--> 516\u001b[0;31m         \u001b[0mself\u001b[0m\u001b[0;34m.\u001b[0m\u001b[0m_maybe_check_integrity\u001b[0m\u001b[0;34m(\u001b[0m\u001b[0mconcat_axis\u001b[0m\u001b[0;34m)\u001b[0m\u001b[0;34m\u001b[0m\u001b[0m\n\u001b[0m\u001b[1;32m    517\u001b[0m \u001b[0;34m\u001b[0m\u001b[0m\n\u001b[1;32m    518\u001b[0m         \u001b[0;32mreturn\u001b[0m \u001b[0mconcat_axis\u001b[0m\u001b[0;34m\u001b[0m\u001b[0m\n",
            "\u001b[0;32m~/anaconda3_501/lib/python3.6/site-packages/pandas/core/reshape/concat.py\u001b[0m in \u001b[0;36m_maybe_check_integrity\u001b[0;34m(self, concat_index)\u001b[0m\n\u001b[1;32m    523\u001b[0m                 \u001b[0moverlap\u001b[0m \u001b[0;34m=\u001b[0m \u001b[0mconcat_index\u001b[0m\u001b[0;34m[\u001b[0m\u001b[0mconcat_index\u001b[0m\u001b[0;34m.\u001b[0m\u001b[0mduplicated\u001b[0m\u001b[0;34m(\u001b[0m\u001b[0;34m)\u001b[0m\u001b[0;34m]\u001b[0m\u001b[0;34m.\u001b[0m\u001b[0munique\u001b[0m\u001b[0;34m(\u001b[0m\u001b[0;34m)\u001b[0m\u001b[0;34m\u001b[0m\u001b[0m\n\u001b[1;32m    524\u001b[0m                 raise ValueError('Indexes have overlapping values: '\n\u001b[0;32m--> 525\u001b[0;31m                                  '{overlap!s}'.format(overlap=overlap))\n\u001b[0m\u001b[1;32m    526\u001b[0m \u001b[0;34m\u001b[0m\u001b[0m\n\u001b[1;32m    527\u001b[0m \u001b[0;34m\u001b[0m\u001b[0m\n",
            "\u001b[0;31mValueError\u001b[0m: Indexes have overlapping values: DatetimeIndex(['2019-01-01', '2019-01-02', '2019-01-03', '2019-01-04'], dtype='datetime64[ns]', freq=None)"
          ]
        }
      ]
    },
    {
      "metadata": {
        "ExecuteTime": {
          "start_time": "2019-09-14T16:55:56.891816Z",
          "end_time": "2019-09-14T16:55:56.987026Z"
        },
        "trusted": true
      },
      "cell_type": "code",
      "source": "pd.merge(df, df2 , left_index=True, right_index=True)",
      "execution_count": 58,
      "outputs": [
        {
          "output_type": "execute_result",
          "execution_count": 58,
          "data": {
            "text/html": "<div>\n<style scoped>\n    .dataframe tbody tr th:only-of-type {\n        vertical-align: middle;\n    }\n\n    .dataframe tbody tr th {\n        vertical-align: top;\n    }\n\n    .dataframe thead th {\n        text-align: right;\n    }\n</style>\n<table border=\"1\" class=\"dataframe\">\n  <thead>\n    <tr style=\"text-align: right;\">\n      <th></th>\n      <th>Amigos</th>\n      <th>Frutas</th>\n      <th>A</th>\n      <th>B</th>\n      <th>C</th>\n      <th>D</th>\n      <th>E</th>\n      <th>F</th>\n    </tr>\n    <tr>\n      <th>Fechas</th>\n      <th></th>\n      <th></th>\n      <th></th>\n      <th></th>\n      <th></th>\n      <th></th>\n      <th></th>\n      <th></th>\n    </tr>\n  </thead>\n  <tbody>\n    <tr>\n      <th>2019-01-01</th>\n      <td>carlos</td>\n      <td>manzana</td>\n      <td>1.0</td>\n      <td>2013-01-02</td>\n      <td>1.0</td>\n      <td>3</td>\n      <td>test</td>\n      <td>foo</td>\n    </tr>\n    <tr>\n      <th>2019-01-02</th>\n      <td>luis</td>\n      <td>naranja</td>\n      <td>1.0</td>\n      <td>2013-01-02</td>\n      <td>1.0</td>\n      <td>3</td>\n      <td>train</td>\n      <td>foo</td>\n    </tr>\n    <tr>\n      <th>2019-01-03</th>\n      <td>sofia</td>\n      <td>naranja</td>\n      <td>1.0</td>\n      <td>2013-01-02</td>\n      <td>1.0</td>\n      <td>3</td>\n      <td>test</td>\n      <td>foo</td>\n    </tr>\n    <tr>\n      <th>2019-01-04</th>\n      <td>andres</td>\n      <td>piña</td>\n      <td>1.0</td>\n      <td>2013-01-02</td>\n      <td>1.0</td>\n      <td>3</td>\n      <td>train</td>\n      <td>foo</td>\n    </tr>\n  </tbody>\n</table>\n</div>",
            "text/plain": "            Amigos   Frutas    A          B    C  D      E    F\nFechas                                                         \n2019-01-01  carlos  manzana  1.0 2013-01-02  1.0  3   test  foo\n2019-01-02    luis  naranja  1.0 2013-01-02  1.0  3  train  foo\n2019-01-03   sofia  naranja  1.0 2013-01-02  1.0  3   test  foo\n2019-01-04  andres     piña  1.0 2013-01-02  1.0  3  train  foo"
          },
          "metadata": {}
        }
      ]
    },
    {
      "metadata": {
        "ExecuteTime": {
          "start_time": "2019-09-14T17:16:48.583461Z",
          "end_time": "2019-09-14T17:16:48.666279Z"
        },
        "trusted": true
      },
      "cell_type": "code",
      "source": "pd.read_csv('mi_archivo.csv')",
      "execution_count": 60,
      "outputs": []
    },
    {
      "metadata": {
        "ExecuteTime": {
          "start_time": "2019-09-14T17:36:51.223931Z",
          "end_time": "2019-09-14T17:36:51.290763Z"
        },
        "trusted": true
      },
      "cell_type": "code",
      "source": "df_tmp= pd.DataFrame({'cliente': ['juan', 'juan', 'juan', 'carlos', 'carlos'],\n             'precio': [101, 411,311,411,554]})\ndf_tmp",
      "execution_count": 62,
      "outputs": [
        {
          "output_type": "execute_result",
          "execution_count": 62,
          "data": {
            "text/html": "<div>\n<style scoped>\n    .dataframe tbody tr th:only-of-type {\n        vertical-align: middle;\n    }\n\n    .dataframe tbody tr th {\n        vertical-align: top;\n    }\n\n    .dataframe thead th {\n        text-align: right;\n    }\n</style>\n<table border=\"1\" class=\"dataframe\">\n  <thead>\n    <tr style=\"text-align: right;\">\n      <th></th>\n      <th>cliente</th>\n      <th>precio</th>\n    </tr>\n  </thead>\n  <tbody>\n    <tr>\n      <th>0</th>\n      <td>juan</td>\n      <td>101</td>\n    </tr>\n    <tr>\n      <th>1</th>\n      <td>juan</td>\n      <td>411</td>\n    </tr>\n    <tr>\n      <th>2</th>\n      <td>juan</td>\n      <td>311</td>\n    </tr>\n    <tr>\n      <th>3</th>\n      <td>carlos</td>\n      <td>411</td>\n    </tr>\n    <tr>\n      <th>4</th>\n      <td>carlos</td>\n      <td>554</td>\n    </tr>\n  </tbody>\n</table>\n</div>",
            "text/plain": "  cliente  precio\n0    juan     101\n1    juan     411\n2    juan     311\n3  carlos     411\n4  carlos     554"
          },
          "metadata": {}
        }
      ]
    },
    {
      "metadata": {
        "ExecuteTime": {
          "start_time": "2019-09-14T17:48:52.154096Z",
          "end_time": "2019-09-14T17:48:52.190994Z"
        },
        "trusted": true
      },
      "cell_type": "code",
      "source": "resumen = df_tmp.groupby('cliente').sum()",
      "execution_count": 64,
      "outputs": []
    },
    {
      "metadata": {
        "ExecuteTime": {
          "start_time": "2019-09-14T17:52:37.998936Z",
          "end_time": "2019-09-14T17:52:38.021136Z"
        },
        "trusted": true
      },
      "cell_type": "code",
      "source": "resumen.index",
      "execution_count": 81,
      "outputs": [
        {
          "output_type": "execute_result",
          "execution_count": 81,
          "data": {
            "text/plain": "Index(['carlos', 'juan'], dtype='object', name='cliente')"
          },
          "metadata": {}
        }
      ]
    },
    {
      "metadata": {
        "ExecuteTime": {
          "start_time": "2019-09-14T17:52:49.173707Z",
          "end_time": "2019-09-14T17:52:49.237403Z"
        },
        "trusted": true
      },
      "cell_type": "code",
      "source": "resumen[resumen.index == resumen.idxmax()[0]]",
      "execution_count": 82,
      "outputs": [
        {
          "output_type": "execute_result",
          "execution_count": 82,
          "data": {
            "text/html": "<div>\n<style scoped>\n    .dataframe tbody tr th:only-of-type {\n        vertical-align: middle;\n    }\n\n    .dataframe tbody tr th {\n        vertical-align: top;\n    }\n\n    .dataframe thead th {\n        text-align: right;\n    }\n</style>\n<table border=\"1\" class=\"dataframe\">\n  <thead>\n    <tr style=\"text-align: right;\">\n      <th></th>\n      <th>precio</th>\n    </tr>\n    <tr>\n      <th>cliente</th>\n      <th></th>\n    </tr>\n  </thead>\n  <tbody>\n    <tr>\n      <th>carlos</th>\n      <td>965</td>\n    </tr>\n  </tbody>\n</table>\n</div>",
            "text/plain": "         precio\ncliente        \ncarlos      965"
          },
          "metadata": {}
        }
      ]
    },
    {
      "metadata": {
        "ExecuteTime": {
          "start_time": "2019-09-14T17:49:27.025117Z",
          "end_time": "2019-09-14T17:49:27.06239Z"
        },
        "trusted": true
      },
      "cell_type": "code",
      "source": "resumen",
      "execution_count": 68,
      "outputs": [
        {
          "output_type": "execute_result",
          "execution_count": 68,
          "data": {
            "text/html": "<div>\n<style scoped>\n    .dataframe tbody tr th:only-of-type {\n        vertical-align: middle;\n    }\n\n    .dataframe tbody tr th {\n        vertical-align: top;\n    }\n\n    .dataframe thead th {\n        text-align: right;\n    }\n</style>\n<table border=\"1\" class=\"dataframe\">\n  <thead>\n    <tr style=\"text-align: right;\">\n      <th></th>\n      <th>precio</th>\n    </tr>\n    <tr>\n      <th>cliente</th>\n      <th></th>\n    </tr>\n  </thead>\n  <tbody>\n    <tr>\n      <th>carlos</th>\n      <td>965</td>\n    </tr>\n    <tr>\n      <th>juan</th>\n      <td>823</td>\n    </tr>\n  </tbody>\n</table>\n</div>",
            "text/plain": "         precio\ncliente        \ncarlos      965\njuan        823"
          },
          "metadata": {}
        }
      ]
    },
    {
      "metadata": {
        "trusted": true
      },
      "cell_type": "code",
      "source": "",
      "execution_count": null,
      "outputs": []
    }
  ],
  "metadata": {
    "kernelspec": {
      "name": "python36",
      "display_name": "Python 3.6",
      "language": "python"
    },
    "toc": {
      "nav_menu": {},
      "number_sections": true,
      "sideBar": true,
      "skip_h1_title": false,
      "base_numbering": 1,
      "title_cell": "Table of Contents",
      "title_sidebar": "Contents",
      "toc_cell": false,
      "toc_position": {},
      "toc_section_display": true,
      "toc_window_display": false
    },
    "language_info": {
      "mimetype": "text/x-python",
      "nbconvert_exporter": "python",
      "name": "python",
      "pygments_lexer": "ipython3",
      "version": "3.6.6",
      "file_extension": ".py",
      "codemirror_mode": {
        "version": 3,
        "name": "ipython"
      }
    }
  },
  "nbformat": 4,
  "nbformat_minor": 1
}