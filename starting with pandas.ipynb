{
  "cells": [
    {
      "metadata": {
        "ExecuteTime": {
          "start_time": "2020-04-15T20:37:26.827595Z",
          "end_time": "2020-04-15T20:37:26.833228Z"
        },
        "trusted": true
      },
      "cell_type": "code",
      "source": "import pandas as pd\nimport numpy as np",
      "execution_count": 16,
      "outputs": []
    },
    {
      "metadata": {},
      "cell_type": "markdown",
      "source": "# Create the dataframe"
    },
    {
      "metadata": {
        "ExecuteTime": {
          "start_time": "2020-04-15T20:29:22.526865Z",
          "end_time": "2020-04-15T20:29:22.818042Z"
        },
        "trusted": true
      },
      "cell_type": "code",
      "source": "df = pd.DataFrame({'AAA': [4, 5, 6, 7],\n                    'BBB': [10, 20, 30, 40],\n                    'CCC': [100, 50, -30, -50]})\ndf",
      "execution_count": 4,
      "outputs": [
        {
          "output_type": "execute_result",
          "execution_count": 4,
          "data": {
            "text/html": "<div>\n<style scoped>\n    .dataframe tbody tr th:only-of-type {\n        vertical-align: middle;\n    }\n\n    .dataframe tbody tr th {\n        vertical-align: top;\n    }\n\n    .dataframe thead th {\n        text-align: right;\n    }\n</style>\n<table border=\"1\" class=\"dataframe\">\n  <thead>\n    <tr style=\"text-align: right;\">\n      <th></th>\n      <th>AAA</th>\n      <th>BBB</th>\n      <th>CCC</th>\n    </tr>\n  </thead>\n  <tbody>\n    <tr>\n      <th>0</th>\n      <td>4</td>\n      <td>10</td>\n      <td>100</td>\n    </tr>\n    <tr>\n      <th>1</th>\n      <td>5</td>\n      <td>20</td>\n      <td>50</td>\n    </tr>\n    <tr>\n      <th>2</th>\n      <td>6</td>\n      <td>30</td>\n      <td>-30</td>\n    </tr>\n    <tr>\n      <th>3</th>\n      <td>7</td>\n      <td>40</td>\n      <td>-50</td>\n    </tr>\n  </tbody>\n</table>\n</div>",
            "text/plain": "   AAA  BBB  CCC\n0    4   10  100\n1    5   20   50\n2    6   30  -30\n3    7   40  -50"
          },
          "metadata": {}
        }
      ]
    },
    {
      "metadata": {},
      "cell_type": "markdown",
      "source": "# if-then…"
    },
    {
      "metadata": {},
      "cell_type": "markdown",
      "source": "An if-then on one column"
    },
    {
      "metadata": {
        "ExecuteTime": {
          "start_time": "2020-04-15T20:30:49.606135Z",
          "end_time": "2020-04-15T20:30:49.667975Z"
        },
        "trusted": true
      },
      "cell_type": "code",
      "source": "df.loc[df.AAA >= 5, 'BBB'] = -1",
      "execution_count": 5,
      "outputs": []
    },
    {
      "metadata": {
        "ExecuteTime": {
          "start_time": "2020-04-15T20:30:50.975863Z",
          "end_time": "2020-04-15T20:30:51.010324Z"
        },
        "trusted": true
      },
      "cell_type": "code",
      "source": "df",
      "execution_count": 6,
      "outputs": [
        {
          "output_type": "execute_result",
          "execution_count": 6,
          "data": {
            "text/html": "<div>\n<style scoped>\n    .dataframe tbody tr th:only-of-type {\n        vertical-align: middle;\n    }\n\n    .dataframe tbody tr th {\n        vertical-align: top;\n    }\n\n    .dataframe thead th {\n        text-align: right;\n    }\n</style>\n<table border=\"1\" class=\"dataframe\">\n  <thead>\n    <tr style=\"text-align: right;\">\n      <th></th>\n      <th>AAA</th>\n      <th>BBB</th>\n      <th>CCC</th>\n    </tr>\n  </thead>\n  <tbody>\n    <tr>\n      <th>0</th>\n      <td>4</td>\n      <td>10</td>\n      <td>100</td>\n    </tr>\n    <tr>\n      <th>1</th>\n      <td>5</td>\n      <td>-1</td>\n      <td>50</td>\n    </tr>\n    <tr>\n      <th>2</th>\n      <td>6</td>\n      <td>-1</td>\n      <td>-30</td>\n    </tr>\n    <tr>\n      <th>3</th>\n      <td>7</td>\n      <td>-1</td>\n      <td>-50</td>\n    </tr>\n  </tbody>\n</table>\n</div>",
            "text/plain": "   AAA  BBB  CCC\n0    4   10  100\n1    5   -1   50\n2    6   -1  -30\n3    7   -1  -50"
          },
          "metadata": {}
        }
      ]
    },
    {
      "metadata": {
        "ExecuteTime": {
          "start_time": "2020-04-15T20:31:13.728682Z",
          "end_time": "2020-04-15T20:31:13.745229Z"
        },
        "trusted": true
      },
      "cell_type": "code",
      "source": "df.loc[df.AAA >= 5, ['BBB', 'CCC']] = 555",
      "execution_count": 7,
      "outputs": []
    },
    {
      "metadata": {
        "ExecuteTime": {
          "start_time": "2020-04-15T20:31:18.111424Z",
          "end_time": "2020-04-15T20:31:18.156083Z"
        },
        "trusted": true
      },
      "cell_type": "code",
      "source": "df",
      "execution_count": 8,
      "outputs": [
        {
          "output_type": "execute_result",
          "execution_count": 8,
          "data": {
            "text/html": "<div>\n<style scoped>\n    .dataframe tbody tr th:only-of-type {\n        vertical-align: middle;\n    }\n\n    .dataframe tbody tr th {\n        vertical-align: top;\n    }\n\n    .dataframe thead th {\n        text-align: right;\n    }\n</style>\n<table border=\"1\" class=\"dataframe\">\n  <thead>\n    <tr style=\"text-align: right;\">\n      <th></th>\n      <th>AAA</th>\n      <th>BBB</th>\n      <th>CCC</th>\n    </tr>\n  </thead>\n  <tbody>\n    <tr>\n      <th>0</th>\n      <td>4</td>\n      <td>10</td>\n      <td>100</td>\n    </tr>\n    <tr>\n      <th>1</th>\n      <td>5</td>\n      <td>555</td>\n      <td>555</td>\n    </tr>\n    <tr>\n      <th>2</th>\n      <td>6</td>\n      <td>555</td>\n      <td>555</td>\n    </tr>\n    <tr>\n      <th>3</th>\n      <td>7</td>\n      <td>555</td>\n      <td>555</td>\n    </tr>\n  </tbody>\n</table>\n</div>",
            "text/plain": "   AAA  BBB  CCC\n0    4   10  100\n1    5  555  555\n2    6  555  555\n3    7  555  555"
          },
          "metadata": {}
        }
      ]
    },
    {
      "metadata": {
        "ExecuteTime": {
          "start_time": "2020-04-15T20:31:32.888149Z",
          "end_time": "2020-04-15T20:31:32.907535Z"
        },
        "trusted": true
      },
      "cell_type": "code",
      "source": "df.loc[df.AAA < 5, ['BBB', 'CCC']] = 2000",
      "execution_count": 9,
      "outputs": []
    },
    {
      "metadata": {
        "ExecuteTime": {
          "start_time": "2020-04-15T20:31:33.941876Z",
          "end_time": "2020-04-15T20:31:33.970824Z"
        },
        "trusted": true
      },
      "cell_type": "code",
      "source": "df",
      "execution_count": 10,
      "outputs": [
        {
          "output_type": "execute_result",
          "execution_count": 10,
          "data": {
            "text/html": "<div>\n<style scoped>\n    .dataframe tbody tr th:only-of-type {\n        vertical-align: middle;\n    }\n\n    .dataframe tbody tr th {\n        vertical-align: top;\n    }\n\n    .dataframe thead th {\n        text-align: right;\n    }\n</style>\n<table border=\"1\" class=\"dataframe\">\n  <thead>\n    <tr style=\"text-align: right;\">\n      <th></th>\n      <th>AAA</th>\n      <th>BBB</th>\n      <th>CCC</th>\n    </tr>\n  </thead>\n  <tbody>\n    <tr>\n      <th>0</th>\n      <td>4</td>\n      <td>2000</td>\n      <td>2000</td>\n    </tr>\n    <tr>\n      <th>1</th>\n      <td>5</td>\n      <td>555</td>\n      <td>555</td>\n    </tr>\n    <tr>\n      <th>2</th>\n      <td>6</td>\n      <td>555</td>\n      <td>555</td>\n    </tr>\n    <tr>\n      <th>3</th>\n      <td>7</td>\n      <td>555</td>\n      <td>555</td>\n    </tr>\n  </tbody>\n</table>\n</div>",
            "text/plain": "   AAA   BBB   CCC\n0    4  2000  2000\n1    5   555   555\n2    6   555   555\n3    7   555   555"
          },
          "metadata": {}
        }
      ]
    },
    {
      "metadata": {
        "ExecuteTime": {
          "start_time": "2020-04-15T20:36:20.82614Z",
          "end_time": "2020-04-15T20:36:20.843159Z"
        },
        "trusted": true
      },
      "cell_type": "code",
      "source": "df_mask = pd.DataFrame({'AAA': [True] * 4,\n                         'BBB': [False] * 4,\n                         'CCC': [True, False] * 2})",
      "execution_count": 11,
      "outputs": []
    },
    {
      "metadata": {
        "ExecuteTime": {
          "start_time": "2020-04-15T20:36:26.176114Z",
          "end_time": "2020-04-15T20:36:27.27535Z"
        },
        "trusted": true
      },
      "cell_type": "code",
      "source": "df.where(df_mask, -1000)",
      "execution_count": 12,
      "outputs": [
        {
          "output_type": "execute_result",
          "execution_count": 12,
          "data": {
            "text/html": "<div>\n<style scoped>\n    .dataframe tbody tr th:only-of-type {\n        vertical-align: middle;\n    }\n\n    .dataframe tbody tr th {\n        vertical-align: top;\n    }\n\n    .dataframe thead th {\n        text-align: right;\n    }\n</style>\n<table border=\"1\" class=\"dataframe\">\n  <thead>\n    <tr style=\"text-align: right;\">\n      <th></th>\n      <th>AAA</th>\n      <th>BBB</th>\n      <th>CCC</th>\n    </tr>\n  </thead>\n  <tbody>\n    <tr>\n      <th>0</th>\n      <td>4</td>\n      <td>-1000</td>\n      <td>2000</td>\n    </tr>\n    <tr>\n      <th>1</th>\n      <td>5</td>\n      <td>-1000</td>\n      <td>-1000</td>\n    </tr>\n    <tr>\n      <th>2</th>\n      <td>6</td>\n      <td>-1000</td>\n      <td>555</td>\n    </tr>\n    <tr>\n      <th>3</th>\n      <td>7</td>\n      <td>-1000</td>\n      <td>-1000</td>\n    </tr>\n  </tbody>\n</table>\n</div>",
            "text/plain": "   AAA   BBB   CCC\n0    4 -1000  2000\n1    5 -1000 -1000\n2    6 -1000   555\n3    7 -1000 -1000"
          },
          "metadata": {}
        }
      ]
    },
    {
      "metadata": {
        "ExecuteTime": {
          "start_time": "2020-04-15T20:37:01.740452Z",
          "end_time": "2020-04-15T20:37:01.76199Z"
        },
        "trusted": true
      },
      "cell_type": "code",
      "source": "df = pd.DataFrame({'AAA': [4, 5, 6, 7],\n                   'BBB': [10, 20, 30, 40],\n                   'CCC': [100, 50, -30, -50]})",
      "execution_count": 13,
      "outputs": []
    },
    {
      "metadata": {
        "ExecuteTime": {
          "start_time": "2020-04-15T20:37:03.43347Z",
          "end_time": "2020-04-15T20:37:03.462718Z"
        },
        "trusted": true
      },
      "cell_type": "code",
      "source": "df",
      "execution_count": 14,
      "outputs": [
        {
          "output_type": "execute_result",
          "execution_count": 14,
          "data": {
            "text/html": "<div>\n<style scoped>\n    .dataframe tbody tr th:only-of-type {\n        vertical-align: middle;\n    }\n\n    .dataframe tbody tr th {\n        vertical-align: top;\n    }\n\n    .dataframe thead th {\n        text-align: right;\n    }\n</style>\n<table border=\"1\" class=\"dataframe\">\n  <thead>\n    <tr style=\"text-align: right;\">\n      <th></th>\n      <th>AAA</th>\n      <th>BBB</th>\n      <th>CCC</th>\n    </tr>\n  </thead>\n  <tbody>\n    <tr>\n      <th>0</th>\n      <td>4</td>\n      <td>10</td>\n      <td>100</td>\n    </tr>\n    <tr>\n      <th>1</th>\n      <td>5</td>\n      <td>20</td>\n      <td>50</td>\n    </tr>\n    <tr>\n      <th>2</th>\n      <td>6</td>\n      <td>30</td>\n      <td>-30</td>\n    </tr>\n    <tr>\n      <th>3</th>\n      <td>7</td>\n      <td>40</td>\n      <td>-50</td>\n    </tr>\n  </tbody>\n</table>\n</div>",
            "text/plain": "   AAA  BBB  CCC\n0    4   10  100\n1    5   20   50\n2    6   30  -30\n3    7   40  -50"
          },
          "metadata": {}
        }
      ]
    },
    {
      "metadata": {
        "ExecuteTime": {
          "start_time": "2020-04-15T20:37:32.249058Z",
          "end_time": "2020-04-15T20:37:32.259111Z"
        },
        "trusted": true
      },
      "cell_type": "code",
      "source": "df['logic'] = np.where(df['AAA'] > 5, 'high', 'low')",
      "execution_count": 17,
      "outputs": []
    },
    {
      "metadata": {
        "ExecuteTime": {
          "start_time": "2020-04-15T20:41:34.471531Z",
          "end_time": "2020-04-15T20:41:34.510244Z"
        },
        "trusted": true
      },
      "cell_type": "code",
      "source": "df",
      "execution_count": 18,
      "outputs": [
        {
          "output_type": "execute_result",
          "execution_count": 18,
          "data": {
            "text/html": "<div>\n<style scoped>\n    .dataframe tbody tr th:only-of-type {\n        vertical-align: middle;\n    }\n\n    .dataframe tbody tr th {\n        vertical-align: top;\n    }\n\n    .dataframe thead th {\n        text-align: right;\n    }\n</style>\n<table border=\"1\" class=\"dataframe\">\n  <thead>\n    <tr style=\"text-align: right;\">\n      <th></th>\n      <th>AAA</th>\n      <th>BBB</th>\n      <th>CCC</th>\n      <th>logic</th>\n    </tr>\n  </thead>\n  <tbody>\n    <tr>\n      <th>0</th>\n      <td>4</td>\n      <td>10</td>\n      <td>100</td>\n      <td>low</td>\n    </tr>\n    <tr>\n      <th>1</th>\n      <td>5</td>\n      <td>20</td>\n      <td>50</td>\n      <td>low</td>\n    </tr>\n    <tr>\n      <th>2</th>\n      <td>6</td>\n      <td>30</td>\n      <td>-30</td>\n      <td>high</td>\n    </tr>\n    <tr>\n      <th>3</th>\n      <td>7</td>\n      <td>40</td>\n      <td>-50</td>\n      <td>high</td>\n    </tr>\n  </tbody>\n</table>\n</div>",
            "text/plain": "   AAA  BBB  CCC logic\n0    4   10  100   low\n1    5   20   50   low\n2    6   30  -30  high\n3    7   40  -50  high"
          },
          "metadata": {}
        }
      ]
    },
    {
      "metadata": {},
      "cell_type": "markdown",
      "source": "# Splitting"
    },
    {
      "metadata": {
        "ExecuteTime": {
          "start_time": "2020-04-15T20:42:01.695101Z",
          "end_time": "2020-04-15T20:42:01.700964Z"
        },
        "trusted": true
      },
      "cell_type": "code",
      "source": "df = pd.DataFrame({'AAA': [4, 5, 6, 7],\n                    'BBB': [10, 20, 30, 40],\n                    'CCC': [100, 50, -30, -50]})",
      "execution_count": 19,
      "outputs": []
    },
    {
      "metadata": {
        "ExecuteTime": {
          "start_time": "2020-04-15T20:42:15.946638Z",
          "end_time": "2020-04-15T20:42:15.968711Z"
        },
        "trusted": true
      },
      "cell_type": "code",
      "source": "df",
      "execution_count": 20,
      "outputs": [
        {
          "output_type": "execute_result",
          "execution_count": 20,
          "data": {
            "text/html": "<div>\n<style scoped>\n    .dataframe tbody tr th:only-of-type {\n        vertical-align: middle;\n    }\n\n    .dataframe tbody tr th {\n        vertical-align: top;\n    }\n\n    .dataframe thead th {\n        text-align: right;\n    }\n</style>\n<table border=\"1\" class=\"dataframe\">\n  <thead>\n    <tr style=\"text-align: right;\">\n      <th></th>\n      <th>AAA</th>\n      <th>BBB</th>\n      <th>CCC</th>\n    </tr>\n  </thead>\n  <tbody>\n    <tr>\n      <th>0</th>\n      <td>4</td>\n      <td>10</td>\n      <td>100</td>\n    </tr>\n    <tr>\n      <th>1</th>\n      <td>5</td>\n      <td>20</td>\n      <td>50</td>\n    </tr>\n    <tr>\n      <th>2</th>\n      <td>6</td>\n      <td>30</td>\n      <td>-30</td>\n    </tr>\n    <tr>\n      <th>3</th>\n      <td>7</td>\n      <td>40</td>\n      <td>-50</td>\n    </tr>\n  </tbody>\n</table>\n</div>",
            "text/plain": "   AAA  BBB  CCC\n0    4   10  100\n1    5   20   50\n2    6   30  -30\n3    7   40  -50"
          },
          "metadata": {}
        }
      ]
    },
    {
      "metadata": {
        "ExecuteTime": {
          "start_time": "2020-04-15T20:42:24.697227Z",
          "end_time": "2020-04-15T20:42:24.747037Z"
        },
        "trusted": true
      },
      "cell_type": "code",
      "source": "df[df.AAA <= 5]",
      "execution_count": 21,
      "outputs": [
        {
          "output_type": "execute_result",
          "execution_count": 21,
          "data": {
            "text/html": "<div>\n<style scoped>\n    .dataframe tbody tr th:only-of-type {\n        vertical-align: middle;\n    }\n\n    .dataframe tbody tr th {\n        vertical-align: top;\n    }\n\n    .dataframe thead th {\n        text-align: right;\n    }\n</style>\n<table border=\"1\" class=\"dataframe\">\n  <thead>\n    <tr style=\"text-align: right;\">\n      <th></th>\n      <th>AAA</th>\n      <th>BBB</th>\n      <th>CCC</th>\n    </tr>\n  </thead>\n  <tbody>\n    <tr>\n      <th>0</th>\n      <td>4</td>\n      <td>10</td>\n      <td>100</td>\n    </tr>\n    <tr>\n      <th>1</th>\n      <td>5</td>\n      <td>20</td>\n      <td>50</td>\n    </tr>\n  </tbody>\n</table>\n</div>",
            "text/plain": "   AAA  BBB  CCC\n0    4   10  100\n1    5   20   50"
          },
          "metadata": {}
        }
      ]
    },
    {
      "metadata": {
        "ExecuteTime": {
          "start_time": "2020-04-15T20:42:39.438488Z",
          "end_time": "2020-04-15T20:42:39.464087Z"
        },
        "trusted": true
      },
      "cell_type": "code",
      "source": "df[df.AAA > 5]",
      "execution_count": 22,
      "outputs": [
        {
          "output_type": "execute_result",
          "execution_count": 22,
          "data": {
            "text/html": "<div>\n<style scoped>\n    .dataframe tbody tr th:only-of-type {\n        vertical-align: middle;\n    }\n\n    .dataframe tbody tr th {\n        vertical-align: top;\n    }\n\n    .dataframe thead th {\n        text-align: right;\n    }\n</style>\n<table border=\"1\" class=\"dataframe\">\n  <thead>\n    <tr style=\"text-align: right;\">\n      <th></th>\n      <th>AAA</th>\n      <th>BBB</th>\n      <th>CCC</th>\n    </tr>\n  </thead>\n  <tbody>\n    <tr>\n      <th>2</th>\n      <td>6</td>\n      <td>30</td>\n      <td>-30</td>\n    </tr>\n    <tr>\n      <th>3</th>\n      <td>7</td>\n      <td>40</td>\n      <td>-50</td>\n    </tr>\n  </tbody>\n</table>\n</div>",
            "text/plain": "   AAA  BBB  CCC\n2    6   30  -30\n3    7   40  -50"
          },
          "metadata": {}
        }
      ]
    },
    {
      "metadata": {},
      "cell_type": "markdown",
      "source": "# Building criteria"
    },
    {
      "metadata": {
        "ExecuteTime": {
          "start_time": "2020-04-15T20:43:26.381524Z",
          "end_time": "2020-04-15T20:43:26.388053Z"
        },
        "trusted": true
      },
      "cell_type": "code",
      "source": "df = pd.DataFrame({'AAA': [4, 5, 6, 7],\n                    'BBB': [10, 20, 30, 40],\n                    'CCC': [100, 50, -30, -50]})",
      "execution_count": 23,
      "outputs": []
    },
    {
      "metadata": {
        "ExecuteTime": {
          "start_time": "2020-04-15T20:43:28.64567Z",
          "end_time": "2020-04-15T20:43:28.681984Z"
        },
        "trusted": true
      },
      "cell_type": "code",
      "source": "df",
      "execution_count": 24,
      "outputs": [
        {
          "output_type": "execute_result",
          "execution_count": 24,
          "data": {
            "text/html": "<div>\n<style scoped>\n    .dataframe tbody tr th:only-of-type {\n        vertical-align: middle;\n    }\n\n    .dataframe tbody tr th {\n        vertical-align: top;\n    }\n\n    .dataframe thead th {\n        text-align: right;\n    }\n</style>\n<table border=\"1\" class=\"dataframe\">\n  <thead>\n    <tr style=\"text-align: right;\">\n      <th></th>\n      <th>AAA</th>\n      <th>BBB</th>\n      <th>CCC</th>\n    </tr>\n  </thead>\n  <tbody>\n    <tr>\n      <th>0</th>\n      <td>4</td>\n      <td>10</td>\n      <td>100</td>\n    </tr>\n    <tr>\n      <th>1</th>\n      <td>5</td>\n      <td>20</td>\n      <td>50</td>\n    </tr>\n    <tr>\n      <th>2</th>\n      <td>6</td>\n      <td>30</td>\n      <td>-30</td>\n    </tr>\n    <tr>\n      <th>3</th>\n      <td>7</td>\n      <td>40</td>\n      <td>-50</td>\n    </tr>\n  </tbody>\n</table>\n</div>",
            "text/plain": "   AAA  BBB  CCC\n0    4   10  100\n1    5   20   50\n2    6   30  -30\n3    7   40  -50"
          },
          "metadata": {}
        }
      ]
    },
    {
      "metadata": {
        "ExecuteTime": {
          "start_time": "2020-04-15T20:43:39.805828Z",
          "end_time": "2020-04-15T20:43:39.877641Z"
        },
        "trusted": true
      },
      "cell_type": "code",
      "source": "df.loc[(df['BBB'] < 25) & (df['CCC'] >= -40), 'AAA']",
      "execution_count": 25,
      "outputs": [
        {
          "output_type": "execute_result",
          "execution_count": 25,
          "data": {
            "text/plain": "0    4\n1    5\nName: AAA, dtype: int64"
          },
          "metadata": {}
        }
      ]
    },
    {
      "metadata": {
        "ExecuteTime": {
          "start_time": "2020-04-15T20:44:04.140561Z",
          "end_time": "2020-04-15T20:44:04.17196Z"
        },
        "trusted": true
      },
      "cell_type": "code",
      "source": "df.loc[(df['BBB'] > 25) | (df['CCC'] >= -40), 'AAA']",
      "execution_count": 26,
      "outputs": [
        {
          "output_type": "execute_result",
          "execution_count": 26,
          "data": {
            "text/plain": "0    4\n1    5\n2    6\n3    7\nName: AAA, dtype: int64"
          },
          "metadata": {}
        }
      ]
    },
    {
      "metadata": {
        "ExecuteTime": {
          "start_time": "2020-04-15T20:44:32.965668Z",
          "end_time": "2020-04-15T20:44:33.003392Z"
        },
        "trusted": true
      },
      "cell_type": "code",
      "source": "df.loc[(df['BBB'] > 25) | (df['CCC'] >= 75), 'AAA'] = 0.1",
      "execution_count": 27,
      "outputs": []
    },
    {
      "metadata": {
        "ExecuteTime": {
          "start_time": "2020-04-15T20:44:35.266128Z",
          "end_time": "2020-04-15T20:44:35.317011Z"
        },
        "trusted": true
      },
      "cell_type": "code",
      "source": "df",
      "execution_count": 28,
      "outputs": [
        {
          "output_type": "execute_result",
          "execution_count": 28,
          "data": {
            "text/html": "<div>\n<style scoped>\n    .dataframe tbody tr th:only-of-type {\n        vertical-align: middle;\n    }\n\n    .dataframe tbody tr th {\n        vertical-align: top;\n    }\n\n    .dataframe thead th {\n        text-align: right;\n    }\n</style>\n<table border=\"1\" class=\"dataframe\">\n  <thead>\n    <tr style=\"text-align: right;\">\n      <th></th>\n      <th>AAA</th>\n      <th>BBB</th>\n      <th>CCC</th>\n    </tr>\n  </thead>\n  <tbody>\n    <tr>\n      <th>0</th>\n      <td>0.1</td>\n      <td>10</td>\n      <td>100</td>\n    </tr>\n    <tr>\n      <th>1</th>\n      <td>5.0</td>\n      <td>20</td>\n      <td>50</td>\n    </tr>\n    <tr>\n      <th>2</th>\n      <td>0.1</td>\n      <td>30</td>\n      <td>-30</td>\n    </tr>\n    <tr>\n      <th>3</th>\n      <td>0.1</td>\n      <td>40</td>\n      <td>-50</td>\n    </tr>\n  </tbody>\n</table>\n</div>",
            "text/plain": "   AAA  BBB  CCC\n0  0.1   10  100\n1  5.0   20   50\n2  0.1   30  -30\n3  0.1   40  -50"
          },
          "metadata": {}
        }
      ]
    },
    {
      "metadata": {
        "ExecuteTime": {
          "start_time": "2020-04-15T20:45:26.690327Z",
          "end_time": "2020-04-15T20:45:26.696658Z"
        },
        "trusted": true
      },
      "cell_type": "code",
      "source": "df = pd.DataFrame({'AAA': [4, 5, 6, 7],\n                   'BBB': [10, 20, 30, 40],\n                   'CCC': [100, 50, -30, -50]})",
      "execution_count": 29,
      "outputs": []
    },
    {
      "metadata": {
        "ExecuteTime": {
          "start_time": "2020-04-15T20:45:28.287567Z",
          "end_time": "2020-04-15T20:45:28.328104Z"
        },
        "trusted": true
      },
      "cell_type": "code",
      "source": "df",
      "execution_count": 30,
      "outputs": [
        {
          "output_type": "execute_result",
          "execution_count": 30,
          "data": {
            "text/html": "<div>\n<style scoped>\n    .dataframe tbody tr th:only-of-type {\n        vertical-align: middle;\n    }\n\n    .dataframe tbody tr th {\n        vertical-align: top;\n    }\n\n    .dataframe thead th {\n        text-align: right;\n    }\n</style>\n<table border=\"1\" class=\"dataframe\">\n  <thead>\n    <tr style=\"text-align: right;\">\n      <th></th>\n      <th>AAA</th>\n      <th>BBB</th>\n      <th>CCC</th>\n    </tr>\n  </thead>\n  <tbody>\n    <tr>\n      <th>0</th>\n      <td>4</td>\n      <td>10</td>\n      <td>100</td>\n    </tr>\n    <tr>\n      <th>1</th>\n      <td>5</td>\n      <td>20</td>\n      <td>50</td>\n    </tr>\n    <tr>\n      <th>2</th>\n      <td>6</td>\n      <td>30</td>\n      <td>-30</td>\n    </tr>\n    <tr>\n      <th>3</th>\n      <td>7</td>\n      <td>40</td>\n      <td>-50</td>\n    </tr>\n  </tbody>\n</table>\n</div>",
            "text/plain": "   AAA  BBB  CCC\n0    4   10  100\n1    5   20   50\n2    6   30  -30\n3    7   40  -50"
          },
          "metadata": {}
        }
      ]
    },
    {
      "metadata": {
        "ExecuteTime": {
          "start_time": "2020-04-15T20:45:39.440179Z",
          "end_time": "2020-04-15T20:45:39.450528Z"
        },
        "trusted": true
      },
      "cell_type": "code",
      "source": "aValue = 43.0",
      "execution_count": 31,
      "outputs": []
    },
    {
      "metadata": {
        "ExecuteTime": {
          "start_time": "2020-04-15T20:45:45.31321Z",
          "end_time": "2020-04-15T20:45:45.358737Z"
        },
        "trusted": true
      },
      "cell_type": "code",
      "source": "df.loc[(df.CCC - aValue).abs().argsort()]",
      "execution_count": 32,
      "outputs": [
        {
          "output_type": "execute_result",
          "execution_count": 32,
          "data": {
            "text/html": "<div>\n<style scoped>\n    .dataframe tbody tr th:only-of-type {\n        vertical-align: middle;\n    }\n\n    .dataframe tbody tr th {\n        vertical-align: top;\n    }\n\n    .dataframe thead th {\n        text-align: right;\n    }\n</style>\n<table border=\"1\" class=\"dataframe\">\n  <thead>\n    <tr style=\"text-align: right;\">\n      <th></th>\n      <th>AAA</th>\n      <th>BBB</th>\n      <th>CCC</th>\n    </tr>\n  </thead>\n  <tbody>\n    <tr>\n      <th>1</th>\n      <td>5</td>\n      <td>20</td>\n      <td>50</td>\n    </tr>\n    <tr>\n      <th>0</th>\n      <td>4</td>\n      <td>10</td>\n      <td>100</td>\n    </tr>\n    <tr>\n      <th>2</th>\n      <td>6</td>\n      <td>30</td>\n      <td>-30</td>\n    </tr>\n    <tr>\n      <th>3</th>\n      <td>7</td>\n      <td>40</td>\n      <td>-50</td>\n    </tr>\n  </tbody>\n</table>\n</div>",
            "text/plain": "   AAA  BBB  CCC\n1    5   20   50\n0    4   10  100\n2    6   30  -30\n3    7   40  -50"
          },
          "metadata": {}
        }
      ]
    },
    {
      "metadata": {
        "ExecuteTime": {
          "start_time": "2020-04-15T20:48:02.531834Z",
          "end_time": "2020-04-15T20:48:02.546669Z"
        },
        "trusted": true
      },
      "cell_type": "code",
      "source": "df = pd.DataFrame({'AAA': [4, 5, 6, 7],\n                    'BBB': [10, 20, 30, 40],\n                    'CCC': [100, 50, -30, -50]})",
      "execution_count": 38,
      "outputs": []
    },
    {
      "metadata": {
        "ExecuteTime": {
          "start_time": "2020-04-15T20:48:05.859536Z",
          "end_time": "2020-04-15T20:48:05.872909Z"
        },
        "trusted": true
      },
      "cell_type": "code",
      "source": "df",
      "execution_count": 39,
      "outputs": [
        {
          "output_type": "execute_result",
          "execution_count": 39,
          "data": {
            "text/html": "<div>\n<style scoped>\n    .dataframe tbody tr th:only-of-type {\n        vertical-align: middle;\n    }\n\n    .dataframe tbody tr th {\n        vertical-align: top;\n    }\n\n    .dataframe thead th {\n        text-align: right;\n    }\n</style>\n<table border=\"1\" class=\"dataframe\">\n  <thead>\n    <tr style=\"text-align: right;\">\n      <th></th>\n      <th>AAA</th>\n      <th>BBB</th>\n      <th>CCC</th>\n    </tr>\n  </thead>\n  <tbody>\n    <tr>\n      <th>0</th>\n      <td>4</td>\n      <td>10</td>\n      <td>100</td>\n    </tr>\n    <tr>\n      <th>1</th>\n      <td>5</td>\n      <td>20</td>\n      <td>50</td>\n    </tr>\n    <tr>\n      <th>2</th>\n      <td>6</td>\n      <td>30</td>\n      <td>-30</td>\n    </tr>\n    <tr>\n      <th>3</th>\n      <td>7</td>\n      <td>40</td>\n      <td>-50</td>\n    </tr>\n  </tbody>\n</table>\n</div>",
            "text/plain": "   AAA  BBB  CCC\n0    4   10  100\n1    5   20   50\n2    6   30  -30\n3    7   40  -50"
          },
          "metadata": {}
        }
      ]
    },
    {
      "metadata": {
        "ExecuteTime": {
          "start_time": "2020-04-15T20:48:39.906993Z",
          "end_time": "2020-04-15T20:48:39.915043Z"
        },
        "trusted": true
      },
      "cell_type": "code",
      "source": "Crit1 = df.AAA <= 5.5",
      "execution_count": 40,
      "outputs": []
    },
    {
      "metadata": {
        "ExecuteTime": {
          "start_time": "2020-04-15T20:48:46.459286Z",
          "end_time": "2020-04-15T20:48:46.477611Z"
        },
        "trusted": true
      },
      "cell_type": "code",
      "source": "Crit2 = df.BBB == 10.0",
      "execution_count": 41,
      "outputs": []
    },
    {
      "metadata": {
        "ExecuteTime": {
          "start_time": "2020-04-15T20:48:52.132527Z",
          "end_time": "2020-04-15T20:48:52.137898Z"
        },
        "trusted": true
      },
      "cell_type": "code",
      "source": "Crit3 = df.CCC > -40.0",
      "execution_count": 42,
      "outputs": []
    },
    {
      "metadata": {
        "ExecuteTime": {
          "start_time": "2020-04-15T20:48:59.508284Z",
          "end_time": "2020-04-15T20:48:59.521856Z"
        },
        "trusted": true
      },
      "cell_type": "code",
      "source": "AllCrit = Crit1 & Crit2 & Crit3",
      "execution_count": 43,
      "outputs": []
    },
    {
      "metadata": {
        "ExecuteTime": {
          "start_time": "2020-04-15T20:50:58.508411Z",
          "end_time": "2020-04-15T20:50:58.527946Z"
        },
        "trusted": true
      },
      "cell_type": "code",
      "source": "df[AllCrit]",
      "execution_count": 44,
      "outputs": [
        {
          "output_type": "execute_result",
          "execution_count": 44,
          "data": {
            "text/html": "<div>\n<style scoped>\n    .dataframe tbody tr th:only-of-type {\n        vertical-align: middle;\n    }\n\n    .dataframe tbody tr th {\n        vertical-align: top;\n    }\n\n    .dataframe thead th {\n        text-align: right;\n    }\n</style>\n<table border=\"1\" class=\"dataframe\">\n  <thead>\n    <tr style=\"text-align: right;\">\n      <th></th>\n      <th>AAA</th>\n      <th>BBB</th>\n      <th>CCC</th>\n    </tr>\n  </thead>\n  <tbody>\n    <tr>\n      <th>0</th>\n      <td>4</td>\n      <td>10</td>\n      <td>100</td>\n    </tr>\n  </tbody>\n</table>\n</div>",
            "text/plain": "   AAA  BBB  CCC\n0    4   10  100"
          },
          "metadata": {}
        }
      ]
    },
    {
      "metadata": {
        "ExecuteTime": {
          "start_time": "2020-04-15T20:52:41.992891Z",
          "end_time": "2020-04-15T20:52:41.996279Z"
        },
        "trusted": true
      },
      "cell_type": "code",
      "source": "import functools",
      "execution_count": 45,
      "outputs": []
    },
    {
      "metadata": {
        "ExecuteTime": {
          "start_time": "2020-04-15T20:52:47.744204Z",
          "end_time": "2020-04-15T20:52:47.752616Z"
        },
        "trusted": true
      },
      "cell_type": "code",
      "source": "CritList = [Crit1, Crit2, Crit3]",
      "execution_count": 46,
      "outputs": []
    },
    {
      "metadata": {
        "ExecuteTime": {
          "start_time": "2020-04-15T20:52:54.566129Z",
          "end_time": "2020-04-15T20:52:54.585941Z"
        },
        "trusted": true
      },
      "cell_type": "code",
      "source": "AllCrit = functools.reduce(lambda x, y: x & y, CritList)",
      "execution_count": 47,
      "outputs": []
    },
    {
      "metadata": {
        "ExecuteTime": {
          "start_time": "2020-04-15T20:52:59.700954Z",
          "end_time": "2020-04-15T20:52:59.719461Z"
        },
        "trusted": true
      },
      "cell_type": "code",
      "source": "df[AllCrit]",
      "execution_count": 48,
      "outputs": [
        {
          "output_type": "execute_result",
          "execution_count": 48,
          "data": {
            "text/html": "<div>\n<style scoped>\n    .dataframe tbody tr th:only-of-type {\n        vertical-align: middle;\n    }\n\n    .dataframe tbody tr th {\n        vertical-align: top;\n    }\n\n    .dataframe thead th {\n        text-align: right;\n    }\n</style>\n<table border=\"1\" class=\"dataframe\">\n  <thead>\n    <tr style=\"text-align: right;\">\n      <th></th>\n      <th>AAA</th>\n      <th>BBB</th>\n      <th>CCC</th>\n    </tr>\n  </thead>\n  <tbody>\n    <tr>\n      <th>0</th>\n      <td>4</td>\n      <td>10</td>\n      <td>100</td>\n    </tr>\n  </tbody>\n</table>\n</div>",
            "text/plain": "   AAA  BBB  CCC\n0    4   10  100"
          },
          "metadata": {}
        }
      ]
    },
    {
      "metadata": {},
      "cell_type": "markdown",
      "source": "# Selection DataFrames"
    },
    {
      "metadata": {
        "ExecuteTime": {
          "start_time": "2020-04-15T20:54:03.938709Z",
          "end_time": "2020-04-15T20:54:03.947611Z"
        },
        "trusted": true
      },
      "cell_type": "code",
      "source": "df = pd.DataFrame({'AAA': [4, 5, 6, 7],\n                    'BBB': [10, 20, 30, 40],\n                    'CCC': [100, 50, -30, -50]})",
      "execution_count": 49,
      "outputs": []
    },
    {
      "metadata": {
        "ExecuteTime": {
          "start_time": "2020-04-15T20:54:11.398194Z",
          "end_time": "2020-04-15T20:54:11.434588Z"
        },
        "trusted": true
      },
      "cell_type": "code",
      "source": "df",
      "execution_count": 50,
      "outputs": [
        {
          "output_type": "execute_result",
          "execution_count": 50,
          "data": {
            "text/html": "<div>\n<style scoped>\n    .dataframe tbody tr th:only-of-type {\n        vertical-align: middle;\n    }\n\n    .dataframe tbody tr th {\n        vertical-align: top;\n    }\n\n    .dataframe thead th {\n        text-align: right;\n    }\n</style>\n<table border=\"1\" class=\"dataframe\">\n  <thead>\n    <tr style=\"text-align: right;\">\n      <th></th>\n      <th>AAA</th>\n      <th>BBB</th>\n      <th>CCC</th>\n    </tr>\n  </thead>\n  <tbody>\n    <tr>\n      <th>0</th>\n      <td>4</td>\n      <td>10</td>\n      <td>100</td>\n    </tr>\n    <tr>\n      <th>1</th>\n      <td>5</td>\n      <td>20</td>\n      <td>50</td>\n    </tr>\n    <tr>\n      <th>2</th>\n      <td>6</td>\n      <td>30</td>\n      <td>-30</td>\n    </tr>\n    <tr>\n      <th>3</th>\n      <td>7</td>\n      <td>40</td>\n      <td>-50</td>\n    </tr>\n  </tbody>\n</table>\n</div>",
            "text/plain": "   AAA  BBB  CCC\n0    4   10  100\n1    5   20   50\n2    6   30  -30\n3    7   40  -50"
          },
          "metadata": {}
        }
      ]
    },
    {
      "metadata": {
        "ExecuteTime": {
          "start_time": "2020-04-15T20:54:25.591582Z",
          "end_time": "2020-04-15T20:54:25.646211Z"
        },
        "trusted": true
      },
      "cell_type": "code",
      "source": "df[(df.AAA <= 6) & (df.index.isin([0, 2, 4]))]",
      "execution_count": 51,
      "outputs": [
        {
          "output_type": "execute_result",
          "execution_count": 51,
          "data": {
            "text/html": "<div>\n<style scoped>\n    .dataframe tbody tr th:only-of-type {\n        vertical-align: middle;\n    }\n\n    .dataframe tbody tr th {\n        vertical-align: top;\n    }\n\n    .dataframe thead th {\n        text-align: right;\n    }\n</style>\n<table border=\"1\" class=\"dataframe\">\n  <thead>\n    <tr style=\"text-align: right;\">\n      <th></th>\n      <th>AAA</th>\n      <th>BBB</th>\n      <th>CCC</th>\n    </tr>\n  </thead>\n  <tbody>\n    <tr>\n      <th>0</th>\n      <td>4</td>\n      <td>10</td>\n      <td>100</td>\n    </tr>\n    <tr>\n      <th>2</th>\n      <td>6</td>\n      <td>30</td>\n      <td>-30</td>\n    </tr>\n  </tbody>\n</table>\n</div>",
            "text/plain": "   AAA  BBB  CCC\n0    4   10  100\n2    6   30  -30"
          },
          "metadata": {}
        }
      ]
    },
    {
      "metadata": {
        "ExecuteTime": {
          "start_time": "2020-04-15T20:54:57.278843Z",
          "end_time": "2020-04-15T20:54:57.294956Z"
        },
        "trusted": true
      },
      "cell_type": "code",
      "source": "df = pd.DataFrame({'AAA': [4, 5, 6, 7],\n                    'BBB': [10, 20, 30, 40],\n                    'CCC': [100, 50, -30, -50]},\n                   index=['foo', 'bar', 'boo', 'kar'])",
      "execution_count": 52,
      "outputs": []
    },
    {
      "metadata": {
        "ExecuteTime": {
          "start_time": "2020-04-15T20:55:13.901092Z",
          "end_time": "2020-04-15T20:55:13.921602Z"
        },
        "trusted": true
      },
      "cell_type": "code",
      "source": "df.loc['bar':'kar']",
      "execution_count": 53,
      "outputs": [
        {
          "output_type": "execute_result",
          "execution_count": 53,
          "data": {
            "text/html": "<div>\n<style scoped>\n    .dataframe tbody tr th:only-of-type {\n        vertical-align: middle;\n    }\n\n    .dataframe tbody tr th {\n        vertical-align: top;\n    }\n\n    .dataframe thead th {\n        text-align: right;\n    }\n</style>\n<table border=\"1\" class=\"dataframe\">\n  <thead>\n    <tr style=\"text-align: right;\">\n      <th></th>\n      <th>AAA</th>\n      <th>BBB</th>\n      <th>CCC</th>\n    </tr>\n  </thead>\n  <tbody>\n    <tr>\n      <th>bar</th>\n      <td>5</td>\n      <td>20</td>\n      <td>50</td>\n    </tr>\n    <tr>\n      <th>boo</th>\n      <td>6</td>\n      <td>30</td>\n      <td>-30</td>\n    </tr>\n    <tr>\n      <th>kar</th>\n      <td>7</td>\n      <td>40</td>\n      <td>-50</td>\n    </tr>\n  </tbody>\n</table>\n</div>",
            "text/plain": "     AAA  BBB  CCC\nbar    5   20   50\nboo    6   30  -30\nkar    7   40  -50"
          },
          "metadata": {}
        }
      ]
    },
    {
      "metadata": {
        "ExecuteTime": {
          "start_time": "2020-04-15T20:55:27.059009Z",
          "end_time": "2020-04-15T20:55:27.083544Z"
        },
        "trusted": true
      },
      "cell_type": "code",
      "source": "df.iloc[0:3]",
      "execution_count": 54,
      "outputs": [
        {
          "output_type": "execute_result",
          "execution_count": 54,
          "data": {
            "text/html": "<div>\n<style scoped>\n    .dataframe tbody tr th:only-of-type {\n        vertical-align: middle;\n    }\n\n    .dataframe tbody tr th {\n        vertical-align: top;\n    }\n\n    .dataframe thead th {\n        text-align: right;\n    }\n</style>\n<table border=\"1\" class=\"dataframe\">\n  <thead>\n    <tr style=\"text-align: right;\">\n      <th></th>\n      <th>AAA</th>\n      <th>BBB</th>\n      <th>CCC</th>\n    </tr>\n  </thead>\n  <tbody>\n    <tr>\n      <th>foo</th>\n      <td>4</td>\n      <td>10</td>\n      <td>100</td>\n    </tr>\n    <tr>\n      <th>bar</th>\n      <td>5</td>\n      <td>20</td>\n      <td>50</td>\n    </tr>\n    <tr>\n      <th>boo</th>\n      <td>6</td>\n      <td>30</td>\n      <td>-30</td>\n    </tr>\n  </tbody>\n</table>\n</div>",
            "text/plain": "     AAA  BBB  CCC\nfoo    4   10  100\nbar    5   20   50\nboo    6   30  -30"
          },
          "metadata": {}
        }
      ]
    },
    {
      "metadata": {
        "ExecuteTime": {
          "start_time": "2020-04-15T20:56:21.22232Z",
          "end_time": "2020-04-15T20:56:21.247245Z"
        },
        "trusted": true
      },
      "cell_type": "code",
      "source": "data = {'AAA': [4, 5, 6, 7],\n         'BBB': [10, 20, 30, 40],\n         'CCC': [100, 50, -30, -50]}",
      "execution_count": 56,
      "outputs": []
    },
    {
      "metadata": {
        "ExecuteTime": {
          "start_time": "2020-04-15T20:56:29.004332Z",
          "end_time": "2020-04-15T20:56:29.009241Z"
        },
        "trusted": true
      },
      "cell_type": "code",
      "source": "df2 = pd.DataFrame(data=data, index=[1, 2, 3, 4])  # Note index starts at 1.",
      "execution_count": 57,
      "outputs": []
    },
    {
      "metadata": {
        "ExecuteTime": {
          "start_time": "2020-04-15T20:56:34.876544Z",
          "end_time": "2020-04-15T20:56:34.902953Z"
        },
        "trusted": true
      },
      "cell_type": "code",
      "source": "df2.iloc[1:3]",
      "execution_count": 58,
      "outputs": [
        {
          "output_type": "execute_result",
          "execution_count": 58,
          "data": {
            "text/html": "<div>\n<style scoped>\n    .dataframe tbody tr th:only-of-type {\n        vertical-align: middle;\n    }\n\n    .dataframe tbody tr th {\n        vertical-align: top;\n    }\n\n    .dataframe thead th {\n        text-align: right;\n    }\n</style>\n<table border=\"1\" class=\"dataframe\">\n  <thead>\n    <tr style=\"text-align: right;\">\n      <th></th>\n      <th>AAA</th>\n      <th>BBB</th>\n      <th>CCC</th>\n    </tr>\n  </thead>\n  <tbody>\n    <tr>\n      <th>2</th>\n      <td>5</td>\n      <td>20</td>\n      <td>50</td>\n    </tr>\n    <tr>\n      <th>3</th>\n      <td>6</td>\n      <td>30</td>\n      <td>-30</td>\n    </tr>\n  </tbody>\n</table>\n</div>",
            "text/plain": "   AAA  BBB  CCC\n2    5   20   50\n3    6   30  -30"
          },
          "metadata": {}
        }
      ]
    },
    {
      "metadata": {
        "ExecuteTime": {
          "start_time": "2020-04-15T20:56:40.568304Z",
          "end_time": "2020-04-15T20:56:40.59801Z"
        },
        "trusted": true
      },
      "cell_type": "code",
      "source": "df2.loc[1:3]",
      "execution_count": 59,
      "outputs": [
        {
          "output_type": "execute_result",
          "execution_count": 59,
          "data": {
            "text/html": "<div>\n<style scoped>\n    .dataframe tbody tr th:only-of-type {\n        vertical-align: middle;\n    }\n\n    .dataframe tbody tr th {\n        vertical-align: top;\n    }\n\n    .dataframe thead th {\n        text-align: right;\n    }\n</style>\n<table border=\"1\" class=\"dataframe\">\n  <thead>\n    <tr style=\"text-align: right;\">\n      <th></th>\n      <th>AAA</th>\n      <th>BBB</th>\n      <th>CCC</th>\n    </tr>\n  </thead>\n  <tbody>\n    <tr>\n      <th>1</th>\n      <td>4</td>\n      <td>10</td>\n      <td>100</td>\n    </tr>\n    <tr>\n      <th>2</th>\n      <td>5</td>\n      <td>20</td>\n      <td>50</td>\n    </tr>\n    <tr>\n      <th>3</th>\n      <td>6</td>\n      <td>30</td>\n      <td>-30</td>\n    </tr>\n  </tbody>\n</table>\n</div>",
            "text/plain": "   AAA  BBB  CCC\n1    4   10  100\n2    5   20   50\n3    6   30  -30"
          },
          "metadata": {}
        }
      ]
    },
    {
      "metadata": {
        "ExecuteTime": {
          "start_time": "2020-04-15T20:58:04.099481Z",
          "end_time": "2020-04-15T20:58:04.126606Z"
        },
        "trusted": true
      },
      "cell_type": "code",
      "source": "df = pd.DataFrame({'AAA': [4, 5, 6, 7],\n                    'BBB': [10, 20, 30, 40],\n                    'CCC': [100, 50, -30, -50]})",
      "execution_count": 60,
      "outputs": []
    },
    {
      "metadata": {
        "ExecuteTime": {
          "start_time": "2020-04-15T20:58:09.428442Z",
          "end_time": "2020-04-15T20:58:09.467414Z"
        },
        "trusted": true
      },
      "cell_type": "code",
      "source": "df",
      "execution_count": 61,
      "outputs": [
        {
          "output_type": "execute_result",
          "execution_count": 61,
          "data": {
            "text/html": "<div>\n<style scoped>\n    .dataframe tbody tr th:only-of-type {\n        vertical-align: middle;\n    }\n\n    .dataframe tbody tr th {\n        vertical-align: top;\n    }\n\n    .dataframe thead th {\n        text-align: right;\n    }\n</style>\n<table border=\"1\" class=\"dataframe\">\n  <thead>\n    <tr style=\"text-align: right;\">\n      <th></th>\n      <th>AAA</th>\n      <th>BBB</th>\n      <th>CCC</th>\n    </tr>\n  </thead>\n  <tbody>\n    <tr>\n      <th>0</th>\n      <td>4</td>\n      <td>10</td>\n      <td>100</td>\n    </tr>\n    <tr>\n      <th>1</th>\n      <td>5</td>\n      <td>20</td>\n      <td>50</td>\n    </tr>\n    <tr>\n      <th>2</th>\n      <td>6</td>\n      <td>30</td>\n      <td>-30</td>\n    </tr>\n    <tr>\n      <th>3</th>\n      <td>7</td>\n      <td>40</td>\n      <td>-50</td>\n    </tr>\n  </tbody>\n</table>\n</div>",
            "text/plain": "   AAA  BBB  CCC\n0    4   10  100\n1    5   20   50\n2    6   30  -30\n3    7   40  -50"
          },
          "metadata": {}
        }
      ]
    },
    {
      "metadata": {
        "ExecuteTime": {
          "start_time": "2020-04-15T20:58:28.238411Z",
          "end_time": "2020-04-15T20:58:28.274223Z"
        },
        "trusted": true
      },
      "cell_type": "code",
      "source": "df[~((df.AAA <= 6) & (df.index.isin([0, 2, 4])))]",
      "execution_count": 62,
      "outputs": [
        {
          "output_type": "execute_result",
          "execution_count": 62,
          "data": {
            "text/html": "<div>\n<style scoped>\n    .dataframe tbody tr th:only-of-type {\n        vertical-align: middle;\n    }\n\n    .dataframe tbody tr th {\n        vertical-align: top;\n    }\n\n    .dataframe thead th {\n        text-align: right;\n    }\n</style>\n<table border=\"1\" class=\"dataframe\">\n  <thead>\n    <tr style=\"text-align: right;\">\n      <th></th>\n      <th>AAA</th>\n      <th>BBB</th>\n      <th>CCC</th>\n    </tr>\n  </thead>\n  <tbody>\n    <tr>\n      <th>1</th>\n      <td>5</td>\n      <td>20</td>\n      <td>50</td>\n    </tr>\n    <tr>\n      <th>3</th>\n      <td>7</td>\n      <td>40</td>\n      <td>-50</td>\n    </tr>\n  </tbody>\n</table>\n</div>",
            "text/plain": "   AAA  BBB  CCC\n1    5   20   50\n3    7   40  -50"
          },
          "metadata": {}
        }
      ]
    },
    {
      "metadata": {},
      "cell_type": "markdown",
      "source": "# New columns"
    },
    {
      "metadata": {
        "ExecuteTime": {
          "start_time": "2020-04-15T21:03:23.341398Z",
          "end_time": "2020-04-15T21:03:23.353881Z"
        },
        "trusted": true
      },
      "cell_type": "code",
      "source": "df = pd.DataFrame({'AAA': [1, 2, 1, 3],\n                    'BBB': [1, 1, 2, 2],\n                    'CCC': [2, 1, 3, 1]})",
      "execution_count": 63,
      "outputs": []
    },
    {
      "metadata": {
        "ExecuteTime": {
          "start_time": "2020-04-15T21:03:26.524197Z",
          "end_time": "2020-04-15T21:03:26.538456Z"
        },
        "trusted": true
      },
      "cell_type": "code",
      "source": "df",
      "execution_count": 64,
      "outputs": [
        {
          "output_type": "execute_result",
          "execution_count": 64,
          "data": {
            "text/html": "<div>\n<style scoped>\n    .dataframe tbody tr th:only-of-type {\n        vertical-align: middle;\n    }\n\n    .dataframe tbody tr th {\n        vertical-align: top;\n    }\n\n    .dataframe thead th {\n        text-align: right;\n    }\n</style>\n<table border=\"1\" class=\"dataframe\">\n  <thead>\n    <tr style=\"text-align: right;\">\n      <th></th>\n      <th>AAA</th>\n      <th>BBB</th>\n      <th>CCC</th>\n    </tr>\n  </thead>\n  <tbody>\n    <tr>\n      <th>0</th>\n      <td>1</td>\n      <td>1</td>\n      <td>2</td>\n    </tr>\n    <tr>\n      <th>1</th>\n      <td>2</td>\n      <td>1</td>\n      <td>1</td>\n    </tr>\n    <tr>\n      <th>2</th>\n      <td>1</td>\n      <td>2</td>\n      <td>3</td>\n    </tr>\n    <tr>\n      <th>3</th>\n      <td>3</td>\n      <td>2</td>\n      <td>1</td>\n    </tr>\n  </tbody>\n</table>\n</div>",
            "text/plain": "   AAA  BBB  CCC\n0    1    1    2\n1    2    1    1\n2    1    2    3\n3    3    2    1"
          },
          "metadata": {}
        }
      ]
    },
    {
      "metadata": {
        "ExecuteTime": {
          "start_time": "2020-04-15T21:04:38.511927Z",
          "end_time": "2020-04-15T21:04:38.52829Z"
        },
        "trusted": true
      },
      "cell_type": "code",
      "source": "source_cols = df.columns",
      "execution_count": 65,
      "outputs": []
    },
    {
      "metadata": {
        "ExecuteTime": {
          "start_time": "2020-04-15T21:04:47.406224Z",
          "end_time": "2020-04-15T21:04:47.417213Z"
        },
        "trusted": true
      },
      "cell_type": "code",
      "source": "new_cols = [str(x) + \"_cat\" for x in source_cols]",
      "execution_count": 66,
      "outputs": []
    },
    {
      "metadata": {
        "ExecuteTime": {
          "start_time": "2020-04-15T21:05:56.645707Z",
          "end_time": "2020-04-15T21:05:56.657552Z"
        },
        "trusted": true
      },
      "cell_type": "code",
      "source": "categories = {1: 'Alpha', 2: 'Beta', 3: 'Charlie'}",
      "execution_count": 67,
      "outputs": []
    },
    {
      "metadata": {
        "ExecuteTime": {
          "start_time": "2020-04-15T21:06:14.520003Z",
          "end_time": "2020-04-15T21:06:14.594101Z"
        },
        "trusted": true
      },
      "cell_type": "code",
      "source": "df[new_cols] = df[source_cols].applymap(categories.get)",
      "execution_count": 68,
      "outputs": []
    },
    {
      "metadata": {
        "ExecuteTime": {
          "start_time": "2020-04-15T21:06:18.838383Z",
          "end_time": "2020-04-15T21:06:18.88751Z"
        },
        "trusted": true
      },
      "cell_type": "code",
      "source": "df",
      "execution_count": 69,
      "outputs": [
        {
          "output_type": "execute_result",
          "execution_count": 69,
          "data": {
            "text/html": "<div>\n<style scoped>\n    .dataframe tbody tr th:only-of-type {\n        vertical-align: middle;\n    }\n\n    .dataframe tbody tr th {\n        vertical-align: top;\n    }\n\n    .dataframe thead th {\n        text-align: right;\n    }\n</style>\n<table border=\"1\" class=\"dataframe\">\n  <thead>\n    <tr style=\"text-align: right;\">\n      <th></th>\n      <th>AAA</th>\n      <th>BBB</th>\n      <th>CCC</th>\n      <th>AAA_cat</th>\n      <th>BBB_cat</th>\n      <th>CCC_cat</th>\n    </tr>\n  </thead>\n  <tbody>\n    <tr>\n      <th>0</th>\n      <td>1</td>\n      <td>1</td>\n      <td>2</td>\n      <td>Alpha</td>\n      <td>Alpha</td>\n      <td>Beta</td>\n    </tr>\n    <tr>\n      <th>1</th>\n      <td>2</td>\n      <td>1</td>\n      <td>1</td>\n      <td>Beta</td>\n      <td>Alpha</td>\n      <td>Alpha</td>\n    </tr>\n    <tr>\n      <th>2</th>\n      <td>1</td>\n      <td>2</td>\n      <td>3</td>\n      <td>Alpha</td>\n      <td>Beta</td>\n      <td>Charlie</td>\n    </tr>\n    <tr>\n      <th>3</th>\n      <td>3</td>\n      <td>2</td>\n      <td>1</td>\n      <td>Charlie</td>\n      <td>Beta</td>\n      <td>Alpha</td>\n    </tr>\n  </tbody>\n</table>\n</div>",
            "text/plain": "   AAA  BBB  CCC  AAA_cat BBB_cat  CCC_cat\n0    1    1    2    Alpha   Alpha     Beta\n1    2    1    1     Beta   Alpha    Alpha\n2    1    2    3    Alpha    Beta  Charlie\n3    3    2    1  Charlie    Beta    Alpha"
          },
          "metadata": {}
        }
      ]
    },
    {
      "metadata": {
        "ExecuteTime": {
          "start_time": "2020-04-15T21:09:33.504356Z",
          "end_time": "2020-04-15T21:09:33.518692Z"
        },
        "trusted": true
      },
      "cell_type": "code",
      "source": "df = pd.DataFrame({'AAA': [1, 1, 1, 2, 2, 2, 3, 3],\n                       'BBB': [2, 1, 3, 4, 5, 1, 2, 3]})",
      "execution_count": 70,
      "outputs": []
    },
    {
      "metadata": {
        "ExecuteTime": {
          "start_time": "2020-04-15T21:09:36.913208Z",
          "end_time": "2020-04-15T21:09:36.941649Z"
        },
        "trusted": true
      },
      "cell_type": "code",
      "source": "df",
      "execution_count": 71,
      "outputs": [
        {
          "output_type": "execute_result",
          "execution_count": 71,
          "data": {
            "text/html": "<div>\n<style scoped>\n    .dataframe tbody tr th:only-of-type {\n        vertical-align: middle;\n    }\n\n    .dataframe tbody tr th {\n        vertical-align: top;\n    }\n\n    .dataframe thead th {\n        text-align: right;\n    }\n</style>\n<table border=\"1\" class=\"dataframe\">\n  <thead>\n    <tr style=\"text-align: right;\">\n      <th></th>\n      <th>AAA</th>\n      <th>BBB</th>\n    </tr>\n  </thead>\n  <tbody>\n    <tr>\n      <th>0</th>\n      <td>1</td>\n      <td>2</td>\n    </tr>\n    <tr>\n      <th>1</th>\n      <td>1</td>\n      <td>1</td>\n    </tr>\n    <tr>\n      <th>2</th>\n      <td>1</td>\n      <td>3</td>\n    </tr>\n    <tr>\n      <th>3</th>\n      <td>2</td>\n      <td>4</td>\n    </tr>\n    <tr>\n      <th>4</th>\n      <td>2</td>\n      <td>5</td>\n    </tr>\n    <tr>\n      <th>5</th>\n      <td>2</td>\n      <td>1</td>\n    </tr>\n    <tr>\n      <th>6</th>\n      <td>3</td>\n      <td>2</td>\n    </tr>\n    <tr>\n      <th>7</th>\n      <td>3</td>\n      <td>3</td>\n    </tr>\n  </tbody>\n</table>\n</div>",
            "text/plain": "   AAA  BBB\n0    1    2\n1    1    1\n2    1    3\n3    2    4\n4    2    5\n5    2    1\n6    3    2\n7    3    3"
          },
          "metadata": {}
        }
      ]
    },
    {
      "metadata": {
        "trusted": true
      },
      "cell_type": "code",
      "source": "",
      "execution_count": null,
      "outputs": []
    }
  ],
  "metadata": {
    "kernelspec": {
      "name": "python36",
      "display_name": "Python 3.6",
      "language": "python"
    },
    "toc": {
      "nav_menu": {},
      "number_sections": true,
      "sideBar": true,
      "skip_h1_title": false,
      "base_numbering": 1,
      "title_cell": "Table of Contents",
      "title_sidebar": "Contents",
      "toc_cell": false,
      "toc_position": {},
      "toc_section_display": true,
      "toc_window_display": false
    },
    "language_info": {
      "mimetype": "text/x-python",
      "nbconvert_exporter": "python",
      "name": "python",
      "pygments_lexer": "ipython3",
      "version": "3.6.6",
      "file_extension": ".py",
      "codemirror_mode": {
        "version": 3,
        "name": "ipython"
      }
    }
  },
  "nbformat": 4,
  "nbformat_minor": 1
}